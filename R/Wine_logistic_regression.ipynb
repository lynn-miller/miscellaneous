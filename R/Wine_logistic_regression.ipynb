{
 "cells": [
  {
   "cell_type": "markdown",
   "metadata": {},
   "source": [
    "# FIT5149 Applied Data Analysis - S2 2016\n",
    "\n",
    "## Assessment 2: Predict Wine Taste Preferences with Logistic Regression \n",
    "\n",
    "Filename: Wine_logistic_regression.ipynb\n",
    "\n",
    "Author: Lynn Miller\n",
    "\n",
    "Date: 15-Sep-2016\n",
    "\n",
    "Version: 1.0\n",
    "\n",
    "Language: R 3.3.0 (R Core Team, 2016) and Jupyter notebook\n",
    "\n",
    "Input files:\n",
    "- Wine_training.csv - contains the data used to build the logistic regression models\n",
    "- Wine_testing.csv - contains the data used to evaluate the models\n",
    "\n",
    "Libraries used:\n",
    "- boot - for bootstrap tests (Canty & Ripley, 2016)\n",
    "- ggplot2 - for visualisations (Wickam, 2009)\n",
    "- glmnet - for logistic regression with ridge/lasso regularisation (Friedman, Hastie, & Tibshirani, 2010). Also requires:\n",
    " - Matrix (Bates & Maechler, 2016)\n",
    " - foreach (Revolution Analytics & Weston, 2015)\n",
    "- gridExtra (Auguie, 2016)\n",
    "- pROC - for AUC calculations (Robin et al., 2011)\n",
    "\n",
    "### Introduction\n",
    "\n",
    "This notebook contains the results of the data analysis performed on the wine quality dataset from the UCI machine learning repository. The aim of the data analysis is to use variable selection and regularisation techniques to build logistic regression models to predict the quality of a wine.\n",
    "\n",
    "The first parts of the notebook contain the steps used to build models for each of the three methods. Cross-validation is used to analyse the models built and the cross-validation results are analysed to choose the best models for each method.\n",
    "\n",
    "After building and selecting the best models, the models are evaluated using a set of testing data to determine the best overall model. Bootstrapping the test data results is used to estimate the confidence intervals for each evaluation method. The confidence intervals provide an estimation of the variability of the performance measures and so indicate whether or not the differences between the model results are significant.\n",
    "\n",
    "Two datasets were provided for the assignment - Wine_training.csv and Wine_testing.csv. The models were built using the Wine.training.csv dataset and evaluated using the Wine_testing.csv data.\n",
    "\n",
    "#### Model Evaluation Statistics\n",
    "\n",
    "The following statistics are calculated to compare the performance of the models:\n",
    "\n",
    "- accuracy - the number of correct classifications divided by the total sample size.  \n",
    "  or\n",
    "- error - the number of incorrect classifications divided by the total sample size (note: $error = 1-accuracy$)\n",
    "- AUC - the \"Area Under the Curve\"; the expectation that a uniformly drawn random \"good\" is ranked before a uniformly drawn random \"bad\" (Dernoncourt, 2015).\n",
    "- deviance - the mean capped binomial deviance as used by glmnet, where the capped binomial deviance is calculated as: $−2*[Y\\log(E)+(1−Y)\\log(1−E)]$, where $E$ is the capped probability of each prediction (capping prevents excessively large negative log values) (Cross Validated (Pat), 2015).\n",
    "\n",
    "In the model building steps, the final model selection for each method is made using the deviance measure. This measure has been chosen for several reasons:\n",
    "- The deviance is the default measure returned by cv.glmnet for evaluating ridge and lasso regularised models. Using deviance to evaluate the stepwise selection models provides the same metric and so allows comparison between the models built using each process.\n",
    "- The deviance takes the probabilities of the predictions into account, so a correct prediction of \"good\" with a 0.9 probability has a lower deviance than a correct prediction of \"good\" with a 0.6 probability. According to the Wikipedia entry for Deviance (Wikipedia, 2016), the deviance is a generalisation of using the sum of squares of the residuals.\n",
    "- Accuracy and error do not take the probability of the predictions into account - so rate a correct prediction with a 0.6 probability equal with a correct prediction with a 0.9 probability. The accuracy (and error) of a model can be changed by changing the threshold at which the classification changes from \"good\" and \"bad\".\n",
    "- Although AUC takes the rankings of the predictions into account, it does not use the probabilities.\n",
    "\n",
    "When testing the selected models, the accuracy, AUC and deviance measures have all been analysed to provide a full picture of the model performance."
   ]
  },
  {
   "cell_type": "markdown",
   "metadata": {},
   "source": [
    "### Initialisation"
   ]
  },
  {
   "cell_type": "code",
   "execution_count": 1,
   "metadata": {
    "collapsed": false
   },
   "outputs": [
    {
     "name": "stderr",
     "output_type": "stream",
     "text": [
      "Loading required package: Matrix\n",
      "Loading required package: foreach\n",
      "Loaded glmnet 2.0-5\n",
      "\n",
      "Type 'citation(\"pROC\")' for a citation.\n",
      "\n",
      "Attaching package: 'pROC'\n",
      "\n",
      "The following object is masked from 'package:glmnet':\n",
      "\n",
      "    auc\n",
      "\n",
      "The following objects are masked from 'package:stats':\n",
      "\n",
      "    cov, smooth, var\n",
      "\n",
      "Warning message:\n",
      ": package 'gridExtra' was built under R version 3.3.1"
     ]
    }
   ],
   "source": [
    "# Load the required libraries\n",
    "library(boot)\n",
    "library(glmnet)\n",
    "library(pROC)\n",
    "library(ggplot2)\n",
    "library(gridExtra)\n",
    "\n",
    "# Set options\n",
    "options(scipen=3, digits=4)\n",
    "\n",
    "# Set the random seed so results are repeatable\n",
    "set.seed(59731)"
   ]
  },
  {
   "cell_type": "code",
   "execution_count": 2,
   "metadata": {
    "collapsed": true
   },
   "outputs": [],
   "source": [
    "# Load the training data\n",
    "wine.train <- read.csv(\"Wine_training.csv\")"
   ]
  },
  {
   "cell_type": "markdown",
   "metadata": {},
   "source": [
    "#### Function to Test a GLM or GLMNET Model\n",
    "\n",
    "Name: testModel\n",
    "\n",
    "Input parameters:\n",
    "- model - the model to use for predictions\n",
    "- X - the predictor variables \n",
    "- y - the true labels\n",
    "- s - the regularisation factor lambda; use NA if model does not use regularisation (default is NA)\n",
    "- CI - boolean indicating whether or not to return 95% confidence intervals for the tests (default is FALSE)\n",
    "\n",
    "Return Value:\n",
    "\n",
    "A list containing:\n",
    "- accuracy - the accuracy of the predictions (assumes threshold of 0.5)\n",
    "- deviance - the mean deviance from a model that would exactly fit the data\n",
    "- AUC - the AUC for the predictions.\n",
    "\n",
    "Each of the above is a scalar value if confidence intervals have not been requested. If confidence intervals have been requested then each element is a list of the mean, CI lower bound and CI upper bound.\n",
    "\n",
    "Description:\n",
    "\n",
    "Calls predict to determine the predicted probability of the observation being classified as \"good\", then classifies the samples as \"good\" or \"bad\". If CI is TRUE, then bootstrapping is used to calculate the mean and CI for the test accuracy, deviance and AUC measures. For accuracy and deviance bootstrapping is done using boot and boot.ci functions (as described by Kabacoff (2014)), AUC bootstrapping is done using the ci.auc function. If CI is FALSE (the default) then the test accuracy, deviance and AUC of the entire test set is calculated. "
   ]
  },
  {
   "cell_type": "code",
   "execution_count": 3,
   "metadata": {
    "collapsed": false
   },
   "outputs": [],
   "source": [
    "testModel <- function(model, X, y, s=NA, CI=FALSE) {\n",
    "\n",
    "    # Get the predicted probabilities  \n",
    "    if (is.na(s)) {\n",
    "        test.probs <- predict(model, X, type=\"response\")\n",
    "    } else {\n",
    "        test.probs <- predict(model, X, s=s, type=\"response\")[,1]\n",
    "    }\n",
    "\n",
    "    # Generate the labels  \n",
    "    test.predict <- factor(ifelse(test.probs>0.5, \"good\", \"bad\"),\n",
    "                           levels=c(\"bad\", \"good\"))\n",
    "     \n",
    "    # Calculate the AUC\n",
    "    test.AUC <- auc(as.integer(y), test.probs)\n",
    "    \n",
    "    # Calculate the capped deviances\n",
    "    test.probs.capped <- pmin(pmax(test.probs,0.01),0.99)\n",
    "    test.deviance <- -2 * ifelse(y==\"good\", log(test.probs.capped), log(1-test.probs.capped))\n",
    "    \n",
    "    if (CI) {   # Confidence intervals requested\n",
    "        # function to calculate the bootstrapping statistic\n",
    "        bs.mean <- function(data, indices) {\n",
    "            return(mean(data[indices]))\n",
    "        }\n",
    "        # bootstrap the predictions for the accuracy measure\n",
    "        bs.ci <- boot.ci(boot(test.predict==test.y,bs.mean,100),type=\"norm\")\n",
    "        bs.accuracy <- list(mean=bs.ci$t0,lower=bs.ci$normal[2],upper=bs.ci$normal[3])\n",
    "        \n",
    "        # find the AUC and bootstrap using ci.AUC\n",
    "        bs.ci <- ci.auc(test.AUC, method=\"b\", boot.n=100)\n",
    "        bs.auc <- list(mean=bs.ci[2],lower=bs.ci[1],upper=bs.ci[3])\n",
    "        \n",
    "        # bootstrap the prediction deviances for the deviance measure\n",
    "        bs.ci <- boot.ci(boot(test.deviance,bs.mean,100),type=\"norm\")\n",
    "        bs.deviance <- list(mean=bs.ci$t0,lower=bs.ci$normal[2],upper=bs.ci$normal[3])\n",
    "        return(list(accuracy=bs.accuracy, deviance=bs.deviance, AUC=bs.auc))\n",
    "        \n",
    "    } else {   # Confidence intervals not required\n",
    "        # Calculate the prediction accuracy  \n",
    "        test.accuracy <- mean(test.predict == y)\n",
    "    \n",
    "        # Return the predictions and statistics\n",
    "        return(list(accuracy=test.accuracy, deviance=mean(test.deviance), AUC=test.AUC))\n",
    "    }\n",
    "}"
   ]
  },
  {
   "cell_type": "markdown",
   "metadata": {},
   "source": [
    "### Forward Stepwise Selection\n",
    "\n",
    "The first method used to develop a logistic regression model for the Wine Quality data is forward stepwise selection. This method builds the model by adding the predictor variables one by one in decreasing order of importance. This results in p models (where p is the number of predictor variables), which are evaluated using k-fold cross-validation to select the best of the p models. \n",
    "\n",
    "The code for the forward stepwise selection uses the following steps:\n",
    "- Start with the null model (has an intercept term only)\n",
    "- Repeat until the model contains all the variables\n",
    " - Use the \"add1\" function is used to pick the next variable to add to the model\n",
    " - Evaluate the new model using cross-validation\n",
    " - Save the evaluation results\n",
    "- For each evaluation method, find the model with the minimum (or maximum for AUC) statistic and the model with the fewest variables within one-standard-error of the best model\n",
    "- Plot the results for each evaluation method\n",
    "- Compare the models with the minimum and one-standard-error deviance "
   ]
  },
  {
   "cell_type": "markdown",
   "metadata": {},
   "source": [
    "#### Function to run K-Fold Cross-Validation for GLM\n",
    "\n",
    "Name: glm.cv\n",
    "\n",
    "Input parameters:\n",
    "- data - a dataframe containing the training data including the target variable\n",
    "- formula - a string containing the model formula \n",
    "- kfolds - the number of cross-validation folds ($k$)\n",
    "\n",
    "Return Value:\n",
    "\n",
    "A list containing:\n",
    "- meanErr - the mean error of the $k$ models\n",
    "- seErr - the standard error of the mean error\n",
    "- meanAUC - the mean AUC of the $k$ models\n",
    "- seAUC - the standard error of the mean AUC\n",
    "- meanDev - the mean deviance of the $k$ models\n",
    "- seDev - the standard error of the mean deviance\n",
    "\n",
    "Description:\n",
    "\n",
    "Randomly splits the data in $k$ partitions and runs glm using the provided formula. Each partition in turn is used as the test data and the remaining data used to train the model. For each model, calculate the error, AUC and deviance.\n",
    "\n",
    "Then use the $k$ errors, AUCs and deviances to calculate the mean and standard error for each measure."
   ]
  },
  {
   "cell_type": "code",
   "execution_count": 4,
   "metadata": {
    "collapsed": false
   },
   "outputs": [],
   "source": [
    "glm.cv <- function(data, formula, kfolds) {\n",
    " \n",
    "    # Randomly allocate each observation to a fold\n",
    "    folds <- sample(rep_len(1:kfolds,nrow(data)))\n",
    "    \n",
    "    # Variables to store the results\n",
    "    errValue = rep(0, kfolds)\n",
    "    aucValue = rep(0, kfolds)\n",
    "    devValue = rep(0, kfolds)\n",
    "  \n",
    "    # Use each fold in turn as the test set\n",
    "    for (k in 1:kfolds) {\n",
    "        # Extract the test data\n",
    "        testSet <- data[folds==k,]\n",
    "\n",
    "        # Extract the training data\n",
    "        trainSet <- data[folds!=k,]\n",
    "\n",
    "        # Train the model using the training data\n",
    "        model <- glm(formula, data=trainSet, family=\"binomial\")\n",
    "        \n",
    "        # Test the model using the test data\n",
    "        results <- testModel(model, testSet, testSet$quality)\n",
    "        # Save the evaluation statistics\n",
    "        errValue[k] <- 1-results$accuracy\n",
    "        aucValue[k] <- results$AUC\n",
    "        devValue[k] <- results$deviance\n",
    "    }\n",
    "\n",
    "    # Calculate AUC mean and SE                              \n",
    "    meanAUC <- mean(aucValue)\n",
    "    seAUC <- sd(aucValue)/sqrt(kfolds)\n",
    "\n",
    "    # Calculate misclassification mean and SE                              \n",
    "    meanErr <- mean(errValue)\n",
    "    seErr <- sd(errValue)/sqrt(kfolds)\n",
    "\n",
    "    # Calculate deviance mean and SE                              \n",
    "    meanDev <- mean(devValue)\n",
    "    seDev <- sd(devValue)/sqrt(kfolds)\n",
    "  \n",
    "    return(list(meanErr=meanErr, seErr=seErr, meanAUC=meanAUC, seAUC=seAUC, meanDev=meanDev, seDev=seDev))\n",
    "}"
   ]
  },
  {
   "cell_type": "markdown",
   "metadata": {},
   "source": [
    "#### Build the Model using Stepwise Selection\n",
    "\n",
    "*Build and cross-validate models using forward stepwise selection. Store the evaluation results for all models for later analysis.*"
   ]
  },
  {
   "cell_type": "code",
   "execution_count": 5,
   "metadata": {
    "collapsed": false,
    "scrolled": false
   },
   "outputs": [
    {
     "data": {
      "text/html": [
       "<table>\n",
       "<thead><tr><th scope=col>nextTerm</th><th scope=col>formula</th><th scope=col>AIC</th><th scope=col>Error.mean</th><th scope=col>Error.se</th><th scope=col>AUC.mean</th><th scope=col>AUC.se</th><th scope=col>Deviance.mean</th><th scope=col>Deviance.se</th></tr></thead>\n",
       "<tbody>\n",
       "\t<tr><td>(Intercept)                                                                                                                                                                </td><td>quality ~ 1                                                                                                                                                                </td><td>4196                                                                                                                                                                       </td><td>0.3366                                                                                                                                                                     </td><td>0.008910                                                                                                                                                                   </td><td>0.5000                                                                                                                                                                     </td><td>0.000000                                                                                                                                                                   </td><td>1.2782                                                                                                                                                                     </td><td>0.01190                                                                                                                                                                    </td></tr>\n",
       "\t<tr><td>alcohol                                                                                                                                                                    </td><td>quality ~ 1 + alcohol                                                                                                                                                      </td><td>3566                                                                                                                                                                       </td><td>0.2818                                                                                                                                                                     </td><td>0.006506                                                                                                                                                                   </td><td>0.7550                                                                                                                                                                     </td><td>0.009421                                                                                                                                                                   </td><td>1.0862                                                                                                                                                                     </td><td>0.01239                                                                                                                                                                    </td></tr>\n",
       "\t<tr><td>volatile.acidity                                                                                                                                                           </td><td>quality ~ 1 + alcohol + volatile.acidity                                                                                                                                   </td><td>3342                                                                                                                                                                       </td><td>0.2519                                                                                                                                                                     </td><td>0.007852                                                                                                                                                                   </td><td>0.7963                                                                                                                                                                     </td><td>0.007237                                                                                                                                                                   </td><td>1.0182                                                                                                                                                                     </td><td>0.01543                                                                                                                                                                    </td></tr>\n",
       "\t<tr><td>residual.sugar                                                                                                                                                             </td><td>quality ~ 1 + alcohol + volatile.acidity + residual.sugar                                                                                                                  </td><td>3301                                                                                                                                                                       </td><td>0.2406                                                                                                                                                                     </td><td>0.003732                                                                                                                                                                   </td><td>0.8044                                                                                                                                                                     </td><td>0.004407                                                                                                                                                                   </td><td>1.0047                                                                                                                                                                     </td><td>0.01280                                                                                                                                                                    </td></tr>\n",
       "\t<tr><td>fixed.acidity                                                                                                                                                              </td><td>quality ~ 1 + alcohol + volatile.acidity + residual.sugar + fixed.acidity                                                                                                  </td><td>3278                                                                                                                                                                       </td><td>0.2400                                                                                                                                                                     </td><td>0.010055                                                                                                                                                                   </td><td>0.8061                                                                                                                                                                     </td><td>0.010600                                                                                                                                                                   </td><td>1.0000                                                                                                                                                                     </td><td>0.01775                                                                                                                                                                    </td></tr>\n",
       "\t<tr><td>sulphates                                                                                                                                                                  </td><td>quality ~ 1 + alcohol + volatile.acidity + residual.sugar + fixed.acidity + sulphates                                                                                      </td><td>3261                                                                                                                                                                       </td><td>0.2406                                                                                                                                                                     </td><td>0.007440                                                                                                                                                                   </td><td>0.8093                                                                                                                                                                     </td><td>0.007060                                                                                                                                                                   </td><td>0.9943                                                                                                                                                                     </td><td>0.02024                                                                                                                                                                    </td></tr>\n",
       "\t<tr><td>free.sulfur.dioxide                                                                                                                                                        </td><td>quality ~ 1 + alcohol + volatile.acidity + residual.sugar + fixed.acidity + sulphates + free.sulfur.dioxide                                                                </td><td>3252                                                                                                                                                                       </td><td>0.2403                                                                                                                                                                     </td><td>0.007274                                                                                                                                                                   </td><td>0.8102                                                                                                                                                                     </td><td>0.007521                                                                                                                                                                   </td><td>0.9900                                                                                                                                                                     </td><td>0.01909                                                                                                                                                                    </td></tr>\n",
       "\t<tr><td>pH                                                                                                                                                                         </td><td>quality ~ 1 + alcohol + volatile.acidity + residual.sugar + fixed.acidity + sulphates + free.sulfur.dioxide + pH                                                           </td><td>3252                                                                                                                                                                       </td><td>0.2422                                                                                                                                                                     </td><td>0.006148                                                                                                                                                                   </td><td>0.8107                                                                                                                                                                     </td><td>0.008648                                                                                                                                                                   </td><td>0.9905                                                                                                                                                                     </td><td>0.01939                                                                                                                                                                    </td></tr>\n",
       "\t<tr><td>density                                                                                                                                                                    </td><td>quality ~ 1 + alcohol + volatile.acidity + residual.sugar + fixed.acidity + sulphates + free.sulfur.dioxide + pH + density                                                 </td><td>3247                                                                                                                                                                       </td><td>0.2437                                                                                                                                                                     </td><td>0.005442                                                                                                                                                                   </td><td>0.8124                                                                                                                                                                     </td><td>0.004543                                                                                                                                                                   </td><td>0.9901                                                                                                                                                                     </td><td>0.01224                                                                                                                                                                    </td></tr>\n",
       "\t<tr><td>total.sulfur.dioxide                                                                                                                                                       </td><td>quality ~ 1 + alcohol + volatile.acidity + residual.sugar + fixed.acidity + sulphates + free.sulfur.dioxide + pH + density + total.sulfur.dioxide                          </td><td>3248                                                                                                                                                                       </td><td>0.2394                                                                                                                                                                     </td><td>0.009162                                                                                                                                                                   </td><td>0.8119                                                                                                                                                                     </td><td>0.007807                                                                                                                                                                   </td><td>0.9915                                                                                                                                                                     </td><td>0.02016                                                                                                                                                                    </td></tr>\n",
       "\t<tr><td>citric.acid                                                                                                                                                                </td><td>quality ~ 1 + alcohol + volatile.acidity + residual.sugar + fixed.acidity + sulphates + free.sulfur.dioxide + pH + density + total.sulfur.dioxide + citric.acid            </td><td>3249                                                                                                                                                                       </td><td>0.2382                                                                                                                                                                     </td><td>0.007604                                                                                                                                                                   </td><td>0.8121                                                                                                                                                                     </td><td>0.007609                                                                                                                                                                   </td><td>0.9906                                                                                                                                                                     </td><td>0.01758                                                                                                                                                                    </td></tr>\n",
       "\t<tr><td>chlorides                                                                                                                                                                  </td><td>quality ~ 1 + alcohol + volatile.acidity + residual.sugar + fixed.acidity + sulphates + free.sulfur.dioxide + pH + density + total.sulfur.dioxide + citric.acid + chlorides</td><td>3251                                                                                                                                                                       </td><td>0.2406                                                                                                                                                                     </td><td>0.006699                                                                                                                                                                   </td><td>0.8123                                                                                                                                                                     </td><td>0.005887                                                                                                                                                                   </td><td>0.9909                                                                                                                                                                     </td><td>0.01409                                                                                                                                                                    </td></tr>\n",
       "</tbody>\n",
       "</table>\n"
      ],
      "text/latex": [
       "\\begin{tabular}{r|lllllllll}\n",
       " nextTerm & formula & AIC & Error.mean & Error.se & AUC.mean & AUC.se & Deviance.mean & Deviance.se\\\\\n",
       "\\hline\n",
       "\t (Intercept)                                                                                                                                                                                  & quality \\textasciitilde{} 1                                                                                                                                                                 & 4196                                                                                                                                                                                         & 0.3366                                                                                                                                                                                       & 0.008910                                                                                                                                                                                     & 0.5000                                                                                                                                                                                       & 0.000000                                                                                                                                                                                     & 1.2782                                                                                                                                                                                       & 0.01190                                                                                                                                                                                     \\\\\n",
       "\t alcohol                                                                                                                                                                                      & quality \\textasciitilde{} 1 + alcohol                                                                                                                                                       & 3566                                                                                                                                                                                         & 0.2818                                                                                                                                                                                       & 0.006506                                                                                                                                                                                     & 0.7550                                                                                                                                                                                       & 0.009421                                                                                                                                                                                     & 1.0862                                                                                                                                                                                       & 0.01239                                                                                                                                                                                     \\\\\n",
       "\t volatile.acidity                                                                                                                                                                             & quality \\textasciitilde{} 1 + alcohol + volatile.acidity                                                                                                                                    & 3342                                                                                                                                                                                         & 0.2519                                                                                                                                                                                       & 0.007852                                                                                                                                                                                     & 0.7963                                                                                                                                                                                       & 0.007237                                                                                                                                                                                     & 1.0182                                                                                                                                                                                       & 0.01543                                                                                                                                                                                     \\\\\n",
       "\t residual.sugar                                                                                                                                                                               & quality \\textasciitilde{} 1 + alcohol + volatile.acidity + residual.sugar                                                                                                                   & 3301                                                                                                                                                                                         & 0.2406                                                                                                                                                                                       & 0.003732                                                                                                                                                                                     & 0.8044                                                                                                                                                                                       & 0.004407                                                                                                                                                                                     & 1.0047                                                                                                                                                                                       & 0.01280                                                                                                                                                                                     \\\\\n",
       "\t fixed.acidity                                                                                                                                                                                & quality \\textasciitilde{} 1 + alcohol + volatile.acidity + residual.sugar + fixed.acidity                                                                                                   & 3278                                                                                                                                                                                         & 0.2400                                                                                                                                                                                       & 0.010055                                                                                                                                                                                     & 0.8061                                                                                                                                                                                       & 0.010600                                                                                                                                                                                     & 1.0000                                                                                                                                                                                       & 0.01775                                                                                                                                                                                     \\\\\n",
       "\t sulphates                                                                                                                                                                                    & quality \\textasciitilde{} 1 + alcohol + volatile.acidity + residual.sugar + fixed.acidity + sulphates                                                                                       & 3261                                                                                                                                                                                         & 0.2406                                                                                                                                                                                       & 0.007440                                                                                                                                                                                     & 0.8093                                                                                                                                                                                       & 0.007060                                                                                                                                                                                     & 0.9943                                                                                                                                                                                       & 0.02024                                                                                                                                                                                     \\\\\n",
       "\t free.sulfur.dioxide                                                                                                                                                                          & quality \\textasciitilde{} 1 + alcohol + volatile.acidity + residual.sugar + fixed.acidity + sulphates + free.sulfur.dioxide                                                                 & 3252                                                                                                                                                                                         & 0.2403                                                                                                                                                                                       & 0.007274                                                                                                                                                                                     & 0.8102                                                                                                                                                                                       & 0.007521                                                                                                                                                                                     & 0.9900                                                                                                                                                                                       & 0.01909                                                                                                                                                                                     \\\\\n",
       "\t pH                                                                                                                                                                                           & quality \\textasciitilde{} 1 + alcohol + volatile.acidity + residual.sugar + fixed.acidity + sulphates + free.sulfur.dioxide + pH                                                            & 3252                                                                                                                                                                                         & 0.2422                                                                                                                                                                                       & 0.006148                                                                                                                                                                                     & 0.8107                                                                                                                                                                                       & 0.008648                                                                                                                                                                                     & 0.9905                                                                                                                                                                                       & 0.01939                                                                                                                                                                                     \\\\\n",
       "\t density                                                                                                                                                                                      & quality \\textasciitilde{} 1 + alcohol + volatile.acidity + residual.sugar + fixed.acidity + sulphates + free.sulfur.dioxide + pH + density                                                  & 3247                                                                                                                                                                                         & 0.2437                                                                                                                                                                                       & 0.005442                                                                                                                                                                                     & 0.8124                                                                                                                                                                                       & 0.004543                                                                                                                                                                                     & 0.9901                                                                                                                                                                                       & 0.01224                                                                                                                                                                                     \\\\\n",
       "\t total.sulfur.dioxide                                                                                                                                                                         & quality \\textasciitilde{} 1 + alcohol + volatile.acidity + residual.sugar + fixed.acidity + sulphates + free.sulfur.dioxide + pH + density + total.sulfur.dioxide                           & 3248                                                                                                                                                                                         & 0.2394                                                                                                                                                                                       & 0.009162                                                                                                                                                                                     & 0.8119                                                                                                                                                                                       & 0.007807                                                                                                                                                                                     & 0.9915                                                                                                                                                                                       & 0.02016                                                                                                                                                                                     \\\\\n",
       "\t citric.acid                                                                                                                                                                                  & quality \\textasciitilde{} 1 + alcohol + volatile.acidity + residual.sugar + fixed.acidity + sulphates + free.sulfur.dioxide + pH + density + total.sulfur.dioxide + citric.acid             & 3249                                                                                                                                                                                         & 0.2382                                                                                                                                                                                       & 0.007604                                                                                                                                                                                     & 0.8121                                                                                                                                                                                       & 0.007609                                                                                                                                                                                     & 0.9906                                                                                                                                                                                       & 0.01758                                                                                                                                                                                     \\\\\n",
       "\t chlorides                                                                                                                                                                                    & quality \\textasciitilde{} 1 + alcohol + volatile.acidity + residual.sugar + fixed.acidity + sulphates + free.sulfur.dioxide + pH + density + total.sulfur.dioxide + citric.acid + chlorides & 3251                                                                                                                                                                                         & 0.2406                                                                                                                                                                                       & 0.006699                                                                                                                                                                                     & 0.8123                                                                                                                                                                                       & 0.005887                                                                                                                                                                                     & 0.9909                                                                                                                                                                                       & 0.01409                                                                                                                                                                                     \\\\\n",
       "\\end{tabular}\n"
      ],
      "text/plain": [
       "   nextTerm            \n",
       "1  (Intercept)         \n",
       "2  alcohol             \n",
       "3  volatile.acidity    \n",
       "4  residual.sugar      \n",
       "5  fixed.acidity       \n",
       "6  sulphates           \n",
       "7  free.sulfur.dioxide \n",
       "8  pH                  \n",
       "9  density             \n",
       "10 total.sulfur.dioxide\n",
       "11 citric.acid         \n",
       "12 chlorides           \n",
       "   formula                                                                                                                                                                    \n",
       "1  quality ~ 1                                                                                                                                                                \n",
       "2  quality ~ 1 + alcohol                                                                                                                                                      \n",
       "3  quality ~ 1 + alcohol + volatile.acidity                                                                                                                                   \n",
       "4  quality ~ 1 + alcohol + volatile.acidity + residual.sugar                                                                                                                  \n",
       "5  quality ~ 1 + alcohol + volatile.acidity + residual.sugar + fixed.acidity                                                                                                  \n",
       "6  quality ~ 1 + alcohol + volatile.acidity + residual.sugar + fixed.acidity + sulphates                                                                                      \n",
       "7  quality ~ 1 + alcohol + volatile.acidity + residual.sugar + fixed.acidity + sulphates + free.sulfur.dioxide                                                                \n",
       "8  quality ~ 1 + alcohol + volatile.acidity + residual.sugar + fixed.acidity + sulphates + free.sulfur.dioxide + pH                                                           \n",
       "9  quality ~ 1 + alcohol + volatile.acidity + residual.sugar + fixed.acidity + sulphates + free.sulfur.dioxide + pH + density                                                 \n",
       "10 quality ~ 1 + alcohol + volatile.acidity + residual.sugar + fixed.acidity + sulphates + free.sulfur.dioxide + pH + density + total.sulfur.dioxide                          \n",
       "11 quality ~ 1 + alcohol + volatile.acidity + residual.sugar + fixed.acidity + sulphates + free.sulfur.dioxide + pH + density + total.sulfur.dioxide + citric.acid            \n",
       "12 quality ~ 1 + alcohol + volatile.acidity + residual.sugar + fixed.acidity + sulphates + free.sulfur.dioxide + pH + density + total.sulfur.dioxide + citric.acid + chlorides\n",
       "   AIC  Error.mean Error.se AUC.mean AUC.se   Deviance.mean Deviance.se\n",
       "1  4196 0.3366     0.008910 0.5000   0.000000 1.2782        0.01190    \n",
       "2  3566 0.2818     0.006506 0.7550   0.009421 1.0862        0.01239    \n",
       "3  3342 0.2519     0.007852 0.7963   0.007237 1.0182        0.01543    \n",
       "4  3301 0.2406     0.003732 0.8044   0.004407 1.0047        0.01280    \n",
       "5  3278 0.2400     0.010055 0.8061   0.010600 1.0000        0.01775    \n",
       "6  3261 0.2406     0.007440 0.8093   0.007060 0.9943        0.02024    \n",
       "7  3252 0.2403     0.007274 0.8102   0.007521 0.9900        0.01909    \n",
       "8  3252 0.2422     0.006148 0.8107   0.008648 0.9905        0.01939    \n",
       "9  3247 0.2437     0.005442 0.8124   0.004543 0.9901        0.01224    \n",
       "10 3248 0.2394     0.009162 0.8119   0.007807 0.9915        0.02016    \n",
       "11 3249 0.2382     0.007604 0.8121   0.007609 0.9906        0.01758    \n",
       "12 3251 0.2406     0.006699 0.8123   0.005887 0.9909        0.01409    "
      ]
     },
     "metadata": {},
     "output_type": "display_data"
    }
   ],
   "source": [
    "# The starting model - has only the coefficient \n",
    "step.model <- glm(quality ~ 1, data=wine.train, family=\"binomial\")\n",
    "\n",
    "# The formula for the full model - includes all predictors\n",
    "full.formula <- formula(terms(quality ~ ., data=wine.train))\n",
    "\n",
    "# Data structures to store the results\n",
    "step.cvResults <- list() \n",
    "step.result <- data.frame(nextTerm=rep(NA, ncol(wine.train)), formula=NA, AIC=0,\n",
    "                          Error.mean=0, Error.se=0, AUC.mean=0, AUC.se=0, Deviance.mean=0, Deviance.se=0)\n",
    "\n",
    "# Get cross-validation results for initial model\n",
    "step.cvResults <- glm.cv(wine.train,\"quality ~ 1\",10)\n",
    "\n",
    "# Save the AIC and cross-validation error and AUC\n",
    "step.result[1,] <- list(\"(Intercept)\", \"quality ~ 1\", step.model$aic,\n",
    "                        step.cvResults$meanErr, step.cvResults$seErr,\n",
    "                        step.cvResults$meanAUC, step.cvResults$seAUC,\n",
    "                        step.cvResults$meanDev, step.cvResults$seDev)\n",
    "\n",
    "# Add variables to model one by one\n",
    "for (s in 2:ncol(wine.train)) {\n",
    "    # Find the best variable to add next\n",
    "    next.step <- add1(step.model, scope=formula(full.formula))\n",
    "    next.term <- row.names(next.step)[which.min(next.step$AIC[2:nrow(next.step)])+1]\n",
    "    \n",
    "    # Generate the formula for this model\n",
    "    next.formula <- paste(deparse(formula(step.model),width.cutoff=500), '+', next.term)\n",
    "    \n",
    "    # Build the model\n",
    "    step.model <- glm(next.formula, data=wine.train, family=\"binomial\")\n",
    "    \n",
    "    # Get the cross-validation error and AUC\n",
    "    step.cvResults <- glm.cv(wine.train,next.formula,10)\n",
    "    \n",
    "    # Save the results\n",
    "    step.result[s,] <- list(next.term, next.formula, step.model$aic,\n",
    "                            step.cvResults$meanErr, step.cvResults$seErr,\n",
    "                            step.cvResults$meanAUC, step.cvResults$seAUC,\n",
    "                            step.cvResults$meanDev, step.cvResults$seDev)\n",
    "}\n",
    "\n",
    "# Display the results\n",
    "step.result"
   ]
  },
  {
   "cell_type": "markdown",
   "metadata": {},
   "source": [
    "#### Compare the Stepwise Selection Models\n",
    "\n",
    "For each cross-validated evaluation measure, calculate the following:\n",
    "\n",
    "- The mean +/- 1 standard error for each model\n",
    "- The model with the best result for this measure\n",
    "- The model with the fewest variables within one standard error of the best result\n",
    "\n",
    "Then plot the results of all the evaluation measures (including the AIC) and compare the models. \n",
    "\n",
    "Step 1. Evaluate the misclassification error statistic"
   ]
  },
  {
   "cell_type": "code",
   "execution_count": 6,
   "metadata": {
    "collapsed": false
   },
   "outputs": [
    {
     "name": "stdout",
     "output_type": "stream",
     "text": [
      "The model with the minimum misclassification error uses 10 variables.\n",
      "The \"one standard error\" misclassification error model uses 3 variables.\n"
     ]
    }
   ],
   "source": [
    "# Data frame to store the results\n",
    "step.error.plot <- data.frame(nVars=seq(0,(ncol(wine.train)-1)),y=0,ymin=0,ymax=0)\n",
    "\n",
    "# Extract the mean and 1se interval for each model\n",
    "for (i in 1:ncol(wine.train)) {\n",
    "    step.error.plot$y[i] <- step.result$Error.mean[i]\n",
    "    step.error.plot$ymin[i] <- step.result$Error.mean[i] - step.result$Error.se[i]\n",
    "    step.error.plot$ymax[i] <- step.result$Error.mean[i] + step.result$Error.se[i]\n",
    "}\n",
    "\n",
    "# Find the model with the minimum error\n",
    "step.errmin <- which.min(step.error.plot$y)\n",
    "\n",
    "# Find the model with fewest variables that has mean error within 1se of the minimum error\n",
    "step.err1se <- step.error.plot$y[step.errmin] + step.result$Error.se[step.errmin]\n",
    "step.err1se <- which(step.error.plot$y==head(step.error.plot$y[step.error.plot$y[1:step.errmin] < step.err1se],1))\n",
    "\n",
    "# Display the number of variables used by the minimum and one-standard-error models\n",
    "cat(sprintf(\"The model with the minimum misclassification error uses %d variables.\\n\",step.errmin-1))\n",
    "cat(sprintf(\"The \\\"one standard error\\\" misclassification error model uses %d variables.\\n\",step.err1se-1))"
   ]
  },
  {
   "cell_type": "markdown",
   "metadata": {},
   "source": [
    "Step 2. Evaluate the AUC statistic"
   ]
  },
  {
   "cell_type": "code",
   "execution_count": 7,
   "metadata": {
    "collapsed": false
   },
   "outputs": [
    {
     "name": "stdout",
     "output_type": "stream",
     "text": [
      "The model with the minimum AUC uses 8 variables.\n",
      "The \"one standard error\" AUC model uses 5 variables.\n"
     ]
    }
   ],
   "source": [
    "# Data frame to store results\n",
    "step.auc.plot <- data.frame(nVars=seq(0,(ncol(wine.train)-1)),y=0,ymin=0,ymax=0)\n",
    "\n",
    "# Extract the mean AUC and 1se interval for each model\n",
    "for (i in 1:ncol(wine.train)) {\n",
    "    step.auc.plot$y[i] <- step.result$AUC.mean[i]\n",
    "    step.auc.plot$ymin[i] <- step.result$AUC.mean[i] - step.result$AUC.se[i]\n",
    "    step.auc.plot$ymax[i] <- step.result$AUC.mean[i] + step.result$AUC.se[i]\n",
    "}\n",
    "\n",
    "# Find the model with the maximum AUC\n",
    "step.aucmax <- which.max(step.auc.plot$y)\n",
    "\n",
    "# Find the model with fewest variables that has mean AUC within 1se of the maximum AUC\n",
    "step.auc1se <- step.auc.plot$y[step.aucmax] - step.result$AUC.se[step.aucmax]\n",
    "step.auc1se <- which(step.auc.plot$y==head(step.auc.plot$y[step.auc.plot$y[1:step.aucmax] > step.auc1se],1))\n",
    "\n",
    "# Display the number of variables used by the minimum and one-standard-error models\n",
    "cat(sprintf(\"The model with the minimum AUC uses %d variables.\\n\",step.aucmax-1))\n",
    "cat(sprintf(\"The \\\"one standard error\\\" AUC model uses %d variables.\\n\",step.auc1se-1))"
   ]
  },
  {
   "cell_type": "markdown",
   "metadata": {},
   "source": [
    "Step 3. Evaluate the deviance statistics"
   ]
  },
  {
   "cell_type": "code",
   "execution_count": 8,
   "metadata": {
    "collapsed": false
   },
   "outputs": [
    {
     "name": "stdout",
     "output_type": "stream",
     "text": [
      "The model with the minimum deviance uses 6 variables.\n",
      "The \"one standard error\" deviance model uses 3 variables.\n"
     ]
    }
   ],
   "source": [
    "# Data frame to store results\n",
    "step.dev.plot <- data.frame(nVars=seq(0,(ncol(wine.train)-1)),y=0,ymin=0,ymax=0)\n",
    "\n",
    "# Extract the mean deviance and 1se interval for each model\n",
    "for (i in 1:ncol(wine.train)) {\n",
    "    step.dev.plot$y[i] <- step.result$Deviance.mean[i]\n",
    "    step.dev.plot$ymin[i] <- step.result$Deviance.mean[i] - step.result$Deviance.se[i]\n",
    "    step.dev.plot$ymax[i] <- step.result$Deviance.mean[i] + step.result$Deviance.se[i]\n",
    "}\n",
    "\n",
    "# Find the model with the minimum deviance\n",
    "step.devmin <- which.min(step.dev.plot$y)\n",
    "\n",
    "# Find the model with fewest variables that has mean deviance within 1se of the minimum deviance\n",
    "step.dev1se <- step.dev.plot$y[step.devmin] + step.result$Deviance.se[step.devmin]\n",
    "step.dev1se <- which(step.dev.plot$y==head(step.dev.plot$y[step.dev.plot$y[1:step.devmin] < step.dev1se],1))\n",
    "\n",
    "# Display the number of variables used by the minimum and one-standard-error models\n",
    "cat(sprintf(\"The model with the minimum deviance uses %d variables.\\n\",step.devmin-1))\n",
    "cat(sprintf(\"The \\\"one standard error\\\" deviance model uses %d variables.\\n\",step.dev1se-1))"
   ]
  },
  {
   "cell_type": "markdown",
   "metadata": {},
   "source": [
    "Step 4. Plot the results for each evaluation criterion"
   ]
  },
  {
   "cell_type": "code",
   "execution_count": 9,
   "metadata": {
    "collapsed": false
   },
   "outputs": [
    {
     "data": {
      "image/png": "[encoded data removed]",
      "text/plain": [
       "plot without title"
      ]
     },
     "metadata": {},
     "output_type": "display_data"
    }
   ],
   "source": [
    "# Plot the Cross-Validation misclassification error\n",
    "p1 <- ggplot(step.error.plot,aes(x=nVars,y=y,ymin=ymin,ymax=ymax)) +\n",
    "      geom_linerange(aes(x=nVars[step.errmin],ymin=0,ymax=0.5),linetype=3) +\n",
    "      annotate(\"text\", x=step.error.plot$nVars[step.errmin], y=0, label = \"Min Error\", colour = \"darkgrey\", size = 3) +\n",
    "      geom_linerange(aes(x=nVars[step.err1se],ymin=0,ymax=0.5),linetype=3) +\n",
    "      annotate(\"text\", x=step.error.plot$nVars[step.err1se]-1, y=0, label = \"Min Error+1se\", colour = \"darkgrey\", size = 3) +\n",
    "      geom_errorbar(width=0.2, colour=\"grey\") +\n",
    "      geom_point(colour=\"red\",size=1) +\n",
    "      scale_x_continuous(\"Number of variables\",breaks=seq(0,max(step.error.plot$nVars))) +\n",
    "      ylab(\"CV Errors - mean and se\") +\n",
    "      ggtitle(\"Stepwise Selection - CV Error\") +\n",
    "      theme(axis.line.x = element_line(colour = \"darkgrey\"),\n",
    "            axis.line.y = element_line(colour = \"darkgrey\"),\n",
    "            panel.background = element_blank())\n",
    "\n",
    "# Plot the Cross-validation AUC\n",
    "p2 <- ggplot(step.auc.plot,aes(x=nVars,y=y,ymin=ymin,ymax=ymax)) +\n",
    "      geom_linerange(aes(x=nVars[step.aucmax],ymin=0.5,ymax=1),linetype=3) +\n",
    "      annotate(\"text\", x=step.auc.plot$nVars[step.aucmax], y=0.5, label = \"Max AUC\", colour = \"darkgrey\", size = 3) +\n",
    "      geom_linerange(aes(x=nVars[step.auc1se],ymin=0.5,ymax=1),linetype=3) +\n",
    "      annotate(\"text\", x=step.auc.plot$nVars[step.auc1se], y=0.5, label = \"Max AUC-1se\", colour = \"darkgrey\", size = 3) +\n",
    "      geom_errorbar(width=0.2, colour=\"grey\") +\n",
    "      geom_point(colour=\"red\",size=1) +\n",
    "      scale_x_continuous(\"Number of variables\",breaks=seq(0,max(step.auc.plot$nVars))) +\n",
    "      ylab(\"CV AUC - mean and se\") +\n",
    "      ggtitle(\"Stepwise Selection - CV AUC\") +\n",
    "      theme(axis.line.x = element_line(colour = \"darkgrey\"),\n",
    "            axis.line.y = element_line(colour = \"darkgrey\"),\n",
    "            panel.background = element_blank())\n",
    "\n",
    "# Plot the Cross-validation deviance\n",
    "p3 <- ggplot(step.dev.plot,aes(x=nVars,y=y,ymin=ymin,ymax=ymax)) +\n",
    "  geom_linerange(aes(x=nVars[step.devmin],ymin=min(ymin),ymax=max(ymax)),linetype=3) +\n",
    "  annotate(\"text\", x=step.dev.plot$nVars[step.devmin]+1, y=min(step.dev.plot$ymin), label = \"Min Dev\", colour = \"darkgrey\", size = 3) +\n",
    "  geom_linerange(aes(x=nVars[step.dev1se],ymin=min(ymin),ymax=max(ymax)),linetype=3) +\n",
    "  annotate(\"text\", x=step.dev.plot$nVars[step.dev1se]-1, y=min(step.dev.plot$ymin), label = \"Min Dev+1se\", colour = \"darkgrey\", size = 3) +\n",
    "  geom_errorbar(width=0.2, colour=\"grey\") +\n",
    "  geom_point(colour=\"red\",size=1) +\n",
    "  scale_x_continuous(\"Number of variables\",breaks=seq(0,max(step.dev.plot$nVars))) +\n",
    "  ylab(\"CV Deviance - mean and se\") +\n",
    "  ggtitle(\"Stepwise Selection - CV Deviance\") +\n",
    "  theme(axis.line.x = element_line(colour = \"darkgrey\"),\n",
    "        axis.line.y = element_line(colour = \"darkgrey\"),\n",
    "        panel.background = element_blank())\n",
    "\n",
    "# Plot the AIC\n",
    "aicmin=which.min(step.result$AIC)\n",
    "p4 <- ggplot(data.frame(nVars=seq(0,11),y=step.result$AIC),aes(x=nVars,y=y)) +\n",
    "      geom_linerange(aes(x=aicmin,ymin=3200,ymax=step.result$AIC[1]),linetype=3) +\n",
    "      annotate(\"text\", x=aicmin, y=3200, label = \"Min AIC\", colour = \"darkgrey\", size = 3) +\n",
    "      geom_point(colour=\"red\",size=1) +\n",
    "      scale_x_continuous(\"Number of variables\",breaks=seq(1,nrow(step.result))) +\n",
    "      ylab(\"AIC\") +\n",
    "      ggtitle(\"Stepwise Selection - AIC\") +\n",
    "      theme(axis.line.x = element_line(colour = \"darkgrey\"),\n",
    "            axis.line.y = element_line(colour = \"darkgrey\"),\n",
    "            panel.background = element_blank())\n",
    "\n",
    "# Display the plots\n",
    "grid.arrange(p1, p2, p3, p4, ncol=2, nrow=2)"
   ]
  },
  {
   "cell_type": "markdown",
   "metadata": {},
   "source": [
    "The above plots show that very similar results were obtained for the models with three or more variables. All the plots show higher error rates with less than three variables, indicating that these models are biased and so will tend to under-fit the data. Although the error has started to increase when all eleven variables are used, it has not increased significantly. This means that the model variance is still low and so even the eleven variable model is unlikely to over-fit the data.\n",
    "\n",
    "The model with six variables is the best stepwise selection model based on the deviance measure. The model with three variables is the smallest model with the mean deviance within one standard error of the best model, and so is likely to give good results and is a simpler model. Both these models will later be evaluated using the testing dataset to determine the best overall model."
   ]
  },
  {
   "cell_type": "markdown",
   "metadata": {},
   "source": [
    "#### Build the Best Model based on Stepwise Selection\n",
    "\n",
    "*Train the best step-wise selection models on the full training dataset.*"
   ]
  },
  {
   "cell_type": "code",
   "execution_count": 10,
   "metadata": {
    "collapsed": false
   },
   "outputs": [
    {
     "data": {
      "text/html": [
       "<table>\n",
       "<thead><tr><th></th><th scope=col>step.min</th><th scope=col>step.dev1se</th></tr></thead>\n",
       "<tbody>\n",
       "\t<tr><th scope=row>(Intercept)</th><td>-8.943936</td><td>-9.0566  </td></tr>\n",
       "\t<tr><th scope=row>alcohol</th><td> 1.122666</td><td> 1.0884  </td></tr>\n",
       "\t<tr><th scope=row>volatile.acidity</th><td>-6.888461</td><td>-6.7968  </td></tr>\n",
       "\t<tr><th scope=row>residual.sugar</th><td> 0.054850</td><td> 0.0601  </td></tr>\n",
       "\t<tr><th scope=row>fixed.acidity</th><td>-0.228181</td><td>     NA  </td></tr>\n",
       "\t<tr><th scope=row>sulphates</th><td> 1.749092</td><td>     NA  </td></tr>\n",
       "\t<tr><th scope=row>free.sulfur.dioxide</th><td> 0.008893</td><td>     NA  </td></tr>\n",
       "</tbody>\n",
       "</table>\n"
      ],
      "text/latex": [
       "\\begin{tabular}{r|ll}\n",
       "  & step.min & step.dev1se\\\\\n",
       "\\hline\n",
       "\t(Intercept) & -8.943936 & -9.0566  \\\\\n",
       "\talcohol &  1.122666 &  1.0884  \\\\\n",
       "\tvolatile.acidity & -6.888461 & -6.7968  \\\\\n",
       "\tresidual.sugar &  0.054850 &  0.0601  \\\\\n",
       "\tfixed.acidity & -0.228181 &      NA  \\\\\n",
       "\tsulphates &  1.749092 &      NA  \\\\\n",
       "\tfree.sulfur.dioxide &  0.008893 &      NA  \\\\\n",
       "\\end{tabular}\n"
      ],
      "text/plain": [
       "                    step.min  step.dev1se\n",
       "(Intercept)         -8.943936 -9.0566    \n",
       "alcohol              1.122666  1.0884    \n",
       "volatile.acidity    -6.888461 -6.7968    \n",
       "residual.sugar       0.054850  0.0601    \n",
       "fixed.acidity       -0.228181      NA    \n",
       "sulphates            1.749092      NA    \n",
       "free.sulfur.dioxide  0.008893      NA    "
      ]
     },
     "metadata": {},
     "output_type": "display_data"
    }
   ],
   "source": [
    "# Extract the formula\n",
    "step.min.formula <- step.result$formula[step.devmin]\n",
    "step.1se.formula <- step.result$formula[step.dev1se]\n",
    "\n",
    "# Build the model using all the training data\n",
    "wine.step.min <- glm(step.min.formula, data=wine.train, family=\"binomial\")\n",
    "wine.step.1se <- glm(step.1se.formula, data=wine.train, family=\"binomial\")\n",
    "\n",
    "# Display the coefficients\n",
    "cbind(step.min=coef(wine.step.min),\n",
    "      step.1se=rbind(data.frame(step.dev1se=coef(wine.step.1se)),data.frame(step.dev1se=c(NA,NA,NA))))"
   ]
  },
  {
   "cell_type": "markdown",
   "metadata": {},
   "source": [
    "#### Stepwise Selection - Summary\n",
    "\n",
    "In summary, the best model obtained using forward stepwise selection includes six variables. In decreasing order of importance the selected variables are: alchohol, volatile.acidity, residual.sugar, fixed.acidity, sulphates and free.sulfur.dioxide. The model with the fewest variables that is within one standard error of the best model includes three variables (alchohol, volatile.acidity and residual.sugar).\n",
    "\n",
    "The assumption behind using the \"one-standard-error\" model is that it should show similar performance to the best model when evaluated using the test data. If this assumption holds (so the model is not under-fitting), then the \"one-standard-error\" model is preferred as it is a less complex model and so is less likely to over-fit and it is more explainable than the \"minimum deviance\" model."
   ]
  },
  {
   "cell_type": "markdown",
   "metadata": {},
   "source": [
    "### Ridge Regularisation\n",
    "\n",
    "The next method used to develop a logistic regression model for the Wine Quality data is ridge regularisation. This method adds a penalty term to the loss function (that is minimized when calculating the coefficients) to constrain the coefficients, or shrink them towards zero. The penalty term is controlled by the tuning parameter $\\lambda$ (lambda) - the larger $\\lambda$ is, the heavier the penalty and so the coefficients of the least important variables tend to zero. The shrinkage penalty used by ridge regression is based on the $l_2$ norm and is $\\lambda\\sum_{j=1}^p {\\beta_j}^2$, where $p$ is the number of predictor variables and $\\beta_j$ is the coefficient of the $j^{th}$ predictor variable.\n",
    "\n",
    "Ridge regression uses all the predictor variables but the coefficients approach zero as $\\lambda$ tends to $\\infty$. This constraint of the coefficients decreases the effective degrees of freedom of the model (Breheny, 2011), so the value of $\\lambda$ controls the bias/variance trade-off. If $\\lambda$ is zero, no regularization penalty is applied and the standard logistic regression model using all variables is fit; this model potentially has high variance and is liable to over-fitting. As $\\lambda$ increases and the model becomes more constrained, the variance decreases but the bias increases; so if $\\lambda$ is too large the model will be prone to under-fitting.\n",
    "\n",
    "To find the best ridge regularisation model with the optimum bias/variance trade-off, the value of $\\lambda$ needs to optimised. This is done by fitting models with a range of values for $\\lambda$ and using k-fold cross-validation (with the number of folds $k$ set to the default of $10$) to estimate the test deviance. The best model can then be selected by finding the $\\lambda$ with the lowest deviance."
   ]
  },
  {
   "cell_type": "code",
   "execution_count": 11,
   "metadata": {
    "collapsed": true
   },
   "outputs": [],
   "source": [
    "# Format predictor and response variables for glmnet and cv.glmnet\n",
    "X <- model.matrix(quality ~ .,data=wine.train)[,-1]\n",
    "y <- wine.train$quality"
   ]
  },
  {
   "cell_type": "markdown",
   "metadata": {},
   "source": [
    "#### Use Cross-Validation to Find the Optimal Lambda\n",
    "\n",
    "*Run the cross-validated ridge regularisation using the default lambda values*"
   ]
  },
  {
   "cell_type": "code",
   "execution_count": 12,
   "metadata": {
    "collapsed": false
   },
   "outputs": [
    {
     "data": {
      "image/png": "[encoded data removed]",
      "text/plain": [
       "Plot with title \"Ridge Regularisation - CV Means and SE\""
      ]
     },
     "metadata": {},
     "output_type": "display_data"
    }
   ],
   "source": [
    "# Run the ridge regression using k-fold cross-validation and default lambda range\n",
    "wine.ridge.cv <- cv.glmnet(X, y, alpha=0, family=\"binomial\")\n",
    "\n",
    "# Plot the deviance for each lambda\n",
    "par(cex.axis=0.8,mar=c(5, 4, 6, 2))\n",
    "plot(wine.ridge.cv,main=\"Ridge Regularisation - CV Means and SE\")"
   ]
  },
  {
   "cell_type": "markdown",
   "metadata": {},
   "source": [
    "*This shows the best lambda being the smallest lambda tried, so try again using a range for lambda that include smaller values.*"
   ]
  },
  {
   "cell_type": "code",
   "execution_count": 13,
   "metadata": {
    "collapsed": false
   },
   "outputs": [
    {
     "data": {
      "image/png": "[encoded data removed]",
      "text/plain": [
       "Plot with title \"Ridge Regularisation - CV Means and SE\""
      ]
     },
     "metadata": {},
     "output_type": "display_data"
    }
   ],
   "source": [
    "# Grid of regularisation values (lambda)\n",
    "grid <- 10^seq(2,-4,length=100)\n",
    "\n",
    "# Ridge regression with k-fold cross-validation\n",
    "wine.ridge.cv <- cv.glmnet(X, y, alpha=0, lambda=grid, family=\"binomial\" )\n",
    "\n",
    "# Plot the deviance for each lambda\n",
    "par(cex.axis=0.8,mar=c(5, 4, 6, 2))\n",
    "plot(wine.ridge.cv,main=\"Ridge Regularisation - CV Means and SE\")"
   ]
  },
  {
   "cell_type": "markdown",
   "metadata": {},
   "source": [
    "#### Compare Models for Different Lambdas\n",
    "\n",
    "*Run the ridge regularisation on the full training dataset*"
   ]
  },
  {
   "cell_type": "code",
   "execution_count": 14,
   "metadata": {
    "collapsed": true
   },
   "outputs": [],
   "source": [
    "# Ridge Regression\n",
    "wine.ridge <- glmnet(X, y, alpha=0, lambda=grid, family=\"binomial\" )"
   ]
  },
  {
   "cell_type": "markdown",
   "metadata": {},
   "source": [
    "*Display model coefficients for largest and smallest lambda, plus the best fit and the one-standard-error fit*"
   ]
  },
  {
   "cell_type": "code",
   "execution_count": 15,
   "metadata": {
    "collapsed": false
   },
   "outputs": [
    {
     "name": "stdout",
     "output_type": "stream",
     "text": [
      "                           largest     one-se    best fit    smallest\n",
      "lambda               100.000000000   0.030539    0.004977    0.000100\n",
      "(Intercept)            1.125324903  82.173461  109.338886  141.063363\n",
      "fixed.acidity         -0.000556502  -0.101678   -0.096313   -0.076030\n",
      "volatile.acidity      -0.010651382  -4.784868   -6.047768   -6.437198\n",
      "citric.acid            0.000079791   0.407973    0.367927    0.353839\n",
      "residual.sugar        -0.000106331   0.058288    0.095155    0.115852\n",
      "chlorides             -0.040619331  -3.976668   -1.535322   -0.561500\n",
      "free.sulfur.dioxide   -0.000002206   0.009728    0.011077    0.011061\n",
      "total.sulfur.dioxide  -0.000019797  -0.002497   -0.002106   -0.001803\n",
      "density               -0.466227010 -90.641993 -120.900836 -153.942728\n",
      "pH                     0.003334492   0.822604    1.009579    1.149589\n",
      "sulphates              0.002607244   1.440145    1.810688    1.951528\n",
      "alcohol                0.001583947   0.677019    0.874642    0.910971\n"
     ]
    }
   ],
   "source": [
    "ridge.summ <- as.matrix(cbind(coef(wine.ridge, s=grid[1]),\n",
    "                              coef(wine.ridge, s=wine.ridge.cv$lambda.1se),\n",
    "                              coef(wine.ridge, s=wine.ridge.cv$lambda.min),\n",
    "                              coef(wine.ridge, s=grid[100])))\n",
    "lambdas <- c(grid[1], wine.ridge.cv$lambda.1se, wine.ridge.cv$lambda.min, grid[100])\n",
    "colnames(ridge.summ) <- c(\"largest\", \"one-se\", \"best fit\", \"smallest\")\n",
    "print(rbind(lambda=lambdas, ridge.summ))"
   ]
  },
  {
   "cell_type": "markdown",
   "metadata": {},
   "source": [
    "The above display of the model coefficients shows that as the regularisation penalty (lambda) increases, the coefficients for each variable generally decrease.\n",
    "\n",
    "Of particular interest are the large changes in the coefficients for the intercept and density, which grow at a similar rate, but with the opposite sign, suggesting that these are to some extent cancelling each other out.\n",
    "\n",
    "*To investigate what is happening, display the distribution of values for \"density\" in a boxplot.*"
   ]
  },
  {
   "cell_type": "code",
   "execution_count": 16,
   "metadata": {
    "collapsed": false,
    "scrolled": false
   },
   "outputs": [
    {
     "data": {
      "image/png": "[encoded data removed]",
      "text/plain": [
       "Plot with title \"Density Boxplot\""
      ]
     },
     "metadata": {},
     "output_type": "display_data"
    }
   ],
   "source": [
    "# Boxplot of density for each quality category\n",
    "boxplot(wine.train$density ~ wine.train$quality, main=\"Density Boxplot\", ylab=\"Density\", xlab=\"Quality\")"
   ]
  },
  {
   "cell_type": "markdown",
   "metadata": {},
   "source": [
    "The boxplot of \"density\" above shows there is very little difference between the density distribution for \"bad\" and \"good\" quality wines - apart from a few outliers for \"good\". The range of values that the majority of observations take is very narrow, with less than two percent difference between the whiskers of each boxplot. This suggests that the logistic regression algorithm is having difficulty fitting the coefficient for density - with the outliers forcing a coefficient that is too large for most of the values, so the algorithm then increases the intercept to compensate. Regularisation limits this conflict and is therefore particularly effective in shrinking the density coefficient and intercept term.  "
   ]
  },
  {
   "cell_type": "markdown",
   "metadata": {},
   "source": [
    "#### Visualise the Coefficients\n",
    "\n",
    "*Plot the coefficients over all values of lambda*"
   ]
  },
  {
   "cell_type": "code",
   "execution_count": 17,
   "metadata": {
    "collapsed": false
   },
   "outputs": [
    {
     "data": {
      "image/png": "[encoded data removed]",
      "text/plain": [
       "Plot with title \"Ridge Regularisation - Coefficients\""
      ]
     },
     "metadata": {},
     "output_type": "display_data"
    }
   ],
   "source": [
    "par(cex.axis=0.8, mar=c(5, 4, 6, 2))\n",
    "plot(wine.ridge, xvar=\"lambda\", main=\"Ridge Regularisation - Coefficients\", col=rainbow(11))\n",
    "legend(\"bottomright\", legend=names(wine.train)[1:11], col=rainbow(11), lty=1, cex=0.65)"
   ]
  },
  {
   "cell_type": "markdown",
   "metadata": {},
   "source": [
    "The way the \"density\" coefficient dominates the model can be seen in the above plot. Although it rapidly drops towards zero as lambda increases, it is still the largest coefficient even for comparatively large values of lambda.\n",
    "\n",
    "As the scale required to plot large density coefficient obscures the detail of how the coefficients behave at they approach zero, the following plot provides a close-up view of this part of the plot. The lambda-min and lambda-1se locations are also shown."
   ]
  },
  {
   "cell_type": "code",
   "execution_count": 18,
   "metadata": {
    "collapsed": false,
    "scrolled": false
   },
   "outputs": [
    {
     "data": {
      "image/png": "[encoded data removed]",
      "text/plain": [
       "Plot with title \"Ridge Regularisation - Coefficients\""
      ]
     },
     "metadata": {},
     "output_type": "display_data"
    }
   ],
   "source": [
    "par(cex.axis=0.8, mar=c(5, 4, 6, 2))\n",
    "# plot the ridge regularisation limiting the display range of the coefficients\n",
    "plot(wine.ridge, xvar=\"lambda\", ylim=c(-2,2), main=\"Ridge Regularisation - Coefficients\", col=rainbow(11))\n",
    "# plot lambda-1se\n",
    "points(x=log(wine.ridge.cv$lambda.1se), y=0, pch=19, col=\"Darkgrey\")\n",
    "# plot lambda-min\n",
    "points(x=log(wine.ridge.cv$lambda.min), y=0, pch=19, col=\"Black\")\n",
    "# add some legends\n",
    "legend(\"bottomleft\", legend=c(\"lambda-min\",\"lambda-1se\"), col=c(\"Black\",\"Darkgrey\"), pch=19, cex=0.75)\n",
    "legend(\"topright\", legend=names(wine.train)[1:11], col=rainbow(11), lty=1, cex=0.65)"
   ]
  },
  {
   "cell_type": "markdown",
   "metadata": {},
   "source": [
    "This plot shows that all the coefficients are pushed towards zero as lambda increases, but none of them actually reach zero. With ridge regularisation all the variables stay in the model even when lambda is large."
   ]
  },
  {
   "cell_type": "markdown",
   "metadata": {},
   "source": [
    "#### Ridge Regularisation - Summary\n",
    "\n",
    "In summary, the best model obtained using ridge regularisation has constrained the coefficients of the predictor variables. This is particularly noticeable with the intercept and the density variable, which have large coefficients with opposite signs when unconstrained. The \"one-standard-error model\" (with $\\lambda = 0.0305$) constrains these values substantially more than the minimum error model ($\\lambda = 0.0050$).\n",
    "\n",
    "As with the forward stepwise selection model, both the \"minimum deviance\" and \"one-standard-error\" models will be evaluated using the test data. If the assumption that the \"one-standard-error\" model is not biased holds (so the model is not under-fitting), then this model is preferred as it is has fewer effective degrees of freedom (Breheny, 2011) and so is less likely to over-fit than the \"minimum deviance\" model."
   ]
  },
  {
   "cell_type": "markdown",
   "metadata": {},
   "source": [
    "### Lasso Regularisation\n",
    "\n",
    "The final method used to develop a logistic regression model for the Wine Quality data is lasso regularisation. Like ridge regularisation, this method adds a penalty term to the loss function to constrain the coefficents, which helps prevent the model over-fitting. But unlike ridge regularisation, lasso regularisation allows the coefficients of the predictor variables to reach zero, which removes them from the model. This means that lasso regularisation will perform variable selection as well as constrain the coefficients.\n",
    "\n",
    "The shrinkage penalty used by lasso regression is based on the $l_1$ norm and is $\\lambda\\sum_{j=1}^p |\\beta_j|$, where $p$ is the number of predictor variables and $\\beta_j$ is the coefficient of the $j^{th}$ predictor variable. The penalty term is controlled by the tuning parameter $\\lambda$ - the larger $\\lambda$ is, the heavier the penalty and so the coefficients of the least important variables will reduce to zero.\n",
    "\n",
    "The value of $\\lambda$ controls the bias/variance trade-off. If $\\lambda$ is zero, no regularization penalty is applied and the standard logistic regression model using all variables is fit. This model has the highest variance and is liable to over-fitting. As $\\lambda$ increases the model becomes more constrained and more variables are removed, decreasing the degrees of freedom of the model. Therefore, the variance will decrease but the bias will increase; so if $\\lambda$ is too large the model will be prone to under-fitting.\n",
    "\n",
    "To find the best lasso regularisation model, the value of $\\lambda$ needs to optimised. As was done for ridge regularisation, models are fitted using a range of values for $\\lambda$ and k-fold cross-validation (using the default of $10$ folds) is used to estimate the test deviance. The best model can then be selected by finding the $\\lambda$ with the lowest deviance."
   ]
  },
  {
   "cell_type": "markdown",
   "metadata": {},
   "source": [
    "#### Use Cross-Validation to Find the Optimal Lambda\n",
    "\n",
    "*Run the cross-validated lasso regularisation using the default lambda values*"
   ]
  },
  {
   "cell_type": "code",
   "execution_count": 19,
   "metadata": {
    "collapsed": false
   },
   "outputs": [
    {
     "data": {
      "image/png": "[encoded data removed]",
      "text/plain": [
       "Plot with title \"Lasso Regularisation - CV Means and SE\""
      ]
     },
     "metadata": {},
     "output_type": "display_data"
    }
   ],
   "source": [
    "# Run the lasso regression using k-fold cross-validation\n",
    "wine.lasso.cv <- cv.glmnet(X, y, alpha=1, family=\"binomial\")\n",
    "\n",
    "# Plot the deviance for each lambda\n",
    "par(cex.axis=0.8, mar=c(5, 4, 6, 2))\n",
    "plot(wine.lasso.cv, main=\"Lasso Regularisation - CV Means and SE\")"
   ]
  },
  {
   "cell_type": "markdown",
   "metadata": {},
   "source": [
    "*The largest value of lambda still has one variable, so try with a range of lambdas that include models with zero variables*"
   ]
  },
  {
   "cell_type": "code",
   "execution_count": 20,
   "metadata": {
    "collapsed": false
   },
   "outputs": [
    {
     "data": {
      "image/png": "[encoded data removed]",
      "text/plain": [
       "Plot with title \"Lasso Regularisation - CV Means and SE\""
      ]
     },
     "metadata": {},
     "output_type": "display_data"
    }
   ],
   "source": [
    "# Grid of regularisation values (lambda)\n",
    "grid <- 10^seq(0, -3, length=100)\n",
    "\n",
    "# Lasso Regression with k-fold cross-validation\n",
    "wine.lasso.cv <- cv.glmnet(X, y, alpha=1, lambda=grid, family=\"binomial\")\n",
    "\n",
    "# Plot the deviance for each lambda\n",
    "par(cex.axis=0.8, mar=c(5, 4, 6, 2))\n",
    "plot(wine.lasso.cv, main=\"Lasso Regularisation - CV Means and SE\")"
   ]
  },
  {
   "cell_type": "markdown",
   "metadata": {},
   "source": [
    "#### Compare Models for Different Lambdas\n",
    "\n",
    "*Run the lasso regularisation on the full training dataset*"
   ]
  },
  {
   "cell_type": "code",
   "execution_count": 21,
   "metadata": {
    "collapsed": true
   },
   "outputs": [],
   "source": [
    "wine.lasso <- glmnet(X, y, alpha=1, lambda=grid, family=\"binomial\")"
   ]
  },
  {
   "cell_type": "markdown",
   "metadata": {},
   "source": [
    "*Display model coefficients for largest and smallest lambda, plus the best fit and the one-standard-error fit*"
   ]
  },
  {
   "cell_type": "code",
   "execution_count": 22,
   "metadata": {
    "collapsed": false
   },
   "outputs": [
    {
     "name": "stdout",
     "output_type": "stream",
     "text": [
      "                     largest    one-se   best fit    smallest\n",
      "lambda                1.0000  0.021544   0.001748    0.001000\n",
      "(Intercept)           0.6786 -6.430111  55.578348   89.293784\n",
      "fixed.acidity         0.0000 -0.074068  -0.130251   -0.109078\n",
      "volatile.acidity      0.0000 -4.771211  -6.388798   -6.411623\n",
      "citric.acid           0.0000  0.000000   0.200885    0.265157\n",
      "residual.sugar        0.0000  0.011298   0.078675    0.093741\n",
      "chlorides             0.0000  0.000000  -0.700767   -0.635128\n",
      "free.sulfur.dioxide   0.0000  0.002771   0.010053    0.010488\n",
      "total.sulfur.dioxide  0.0000  0.000000  -0.001353   -0.001553\n",
      "density               0.0000  0.000000 -66.799532 -101.200614\n",
      "pH                    0.0000  0.024287   0.765454    0.921097\n",
      "sulphates             0.0000  0.378289   1.678099    1.791699\n",
      "alcohol               0.0000  0.821252   0.990411    0.960586\n"
     ]
    }
   ],
   "source": [
    "lasso.summ <- as.matrix(cbind(coef(wine.lasso, s=grid[1]),\n",
    "                              coef(wine.lasso, s=wine.lasso.cv$lambda.1se),\n",
    "                              coef(wine.lasso, s=wine.lasso.cv$lambda.min),\n",
    "                              coef(wine.lasso, s=grid[100])))\n",
    "lambdas <- c(grid[1], wine.lasso.cv$lambda.1se, wine.lasso.cv$lambda.min, grid[100])\n",
    "colnames(lasso.summ) <- c(\"largest\", \"one-se\", \"best fit\", \"smallest\")\n",
    "print(rbind(lambda=lambdas, lasso.summ))"
   ]
  },
  {
   "cell_type": "markdown",
   "metadata": {},
   "source": [
    "This shows that as $\\lambda$ increases, the coefficients of some variables are set to zero, removing the variables from the model. At the \"minimum deviance\" $\\lambda$ ($0.0017$), all variables are still in the model, but at the \"one-standard-error\" $\\lambda$ ($0.0215$) four variables have been removed from the model. This includes removing \"density\", which for the smallest values of lambda had the largest coefficient.\n",
    "\n",
    "#### Variable Selection Analysis\n",
    "\n",
    "*Next, look at the order the variables are added to the model as lambda decreases and compare these to the order stepwise variable selection added them.*"
   ]
  },
  {
   "cell_type": "code",
   "execution_count": 23,
   "metadata": {
    "collapsed": false
   },
   "outputs": [
    {
     "data": {
      "text/html": [
       "<table>\n",
       "<thead><tr><th></th><th scope=col>lasso.order</th><th scope=col>max.lambda</th><th scope=col>stepwise.order</th></tr></thead>\n",
       "<tbody>\n",
       "\t<tr><th scope=row>11</th><td>alcohol             </td><td>0.187382            </td><td>alcohol             </td></tr>\n",
       "\t<tr><th scope=row>2</th><td>volatile.acidity    </td><td>0.107227            </td><td>volatile.acidity    </td></tr>\n",
       "\t<tr><th scope=row>1</th><td>fixed.acidity       </td><td>0.032745            </td><td>residual.sugar      </td></tr>\n",
       "\t<tr><th scope=row>6</th><td>free.sulfur.dioxide </td><td>0.030539            </td><td>fixed.acidity       </td></tr>\n",
       "\t<tr><th scope=row>10</th><td>sulphates           </td><td>0.028480            </td><td>sulphates           </td></tr>\n",
       "\t<tr><th scope=row>4</th><td>residual.sugar      </td><td>0.026561            </td><td>free.sulfur.dioxide </td></tr>\n",
       "\t<tr><th scope=row>9</th><td>pH                  </td><td>0.021544            </td><td>pH                  </td></tr>\n",
       "\t<tr><th scope=row>5</th><td>chlorides           </td><td>0.013219            </td><td>density             </td></tr>\n",
       "\t<tr><th scope=row>7</th><td>total.sulfur.dioxide</td><td>0.005337            </td><td>total.sulfur.dioxide</td></tr>\n",
       "\t<tr><th scope=row>3</th><td>citric.acid         </td><td>0.004329            </td><td>citric.acid         </td></tr>\n",
       "\t<tr><th scope=row>8</th><td>density             </td><td>0.003275            </td><td>chlorides           </td></tr>\n",
       "</tbody>\n",
       "</table>\n"
      ],
      "text/latex": [
       "\\begin{tabular}{r|lll}\n",
       "  & lasso.order & max.lambda & stepwise.order\\\\\n",
       "\\hline\n",
       "\t11 & alcohol              & 0.187382             & alcohol             \\\\\n",
       "\t2 & volatile.acidity     & 0.107227             & volatile.acidity    \\\\\n",
       "\t1 & fixed.acidity        & 0.032745             & residual.sugar      \\\\\n",
       "\t6 & free.sulfur.dioxide  & 0.030539             & fixed.acidity       \\\\\n",
       "\t10 & sulphates            & 0.028480             & sulphates           \\\\\n",
       "\t4 & residual.sugar       & 0.026561             & free.sulfur.dioxide \\\\\n",
       "\t9 & pH                   & 0.021544             & pH                  \\\\\n",
       "\t5 & chlorides            & 0.013219             & density             \\\\\n",
       "\t7 & total.sulfur.dioxide & 0.005337             & total.sulfur.dioxide\\\\\n",
       "\t3 & citric.acid          & 0.004329             & citric.acid         \\\\\n",
       "\t8 & density              & 0.003275             & chlorides           \\\\\n",
       "\\end{tabular}\n"
      ],
      "text/plain": [
       "   lasso.order          max.lambda stepwise.order      \n",
       "11 alcohol              0.187382   alcohol             \n",
       "2  volatile.acidity     0.107227   volatile.acidity    \n",
       "1  fixed.acidity        0.032745   residual.sugar      \n",
       "6  free.sulfur.dioxide  0.030539   fixed.acidity       \n",
       "10 sulphates            0.028480   sulphates           \n",
       "4  residual.sugar       0.026561   free.sulfur.dioxide \n",
       "9  pH                   0.021544   pH                  \n",
       "5  chlorides            0.013219   density             \n",
       "7  total.sulfur.dioxide 0.005337   total.sulfur.dioxide\n",
       "3  citric.acid          0.004329   citric.acid         \n",
       "8  density              0.003275   chlorides           "
      ]
     },
     "metadata": {},
     "output_type": "display_data"
    }
   ],
   "source": [
    "# Find the maximum lambda for each variable, ignoring the intercept\n",
    "# Extract the coefficients for all values of lambda\n",
    "lasso.coef <- as.data.frame(as.matrix(cbind(lambda=grid, t(wine.lasso$beta))))\n",
    "\n",
    "# A dataframe for the results\n",
    "lasso.vars <- data.frame(lasso.order=names(lasso.coef[2:12]), max.lambda=0)\n",
    "\n",
    "# Loop through the variables, ignoring the intercept\n",
    "for (i in 2:12) {\n",
    "    # Loop though the lambda values\n",
    "    for (j in 1:100) {\n",
    "        # When the first non-zero coefficient is found ...\n",
    "        if (lasso.coef[j,i] != 0) {\n",
    "            # ... save the lambda ...\n",
    "            lasso.vars$max.lambda[i-1] <- lasso.coef[j,1]\n",
    "            # ... and move on to the next variable\n",
    "            break()\n",
    "        }\n",
    "    }\n",
    "}\n",
    "\n",
    "# Sort the variables in decreasing order of removal\n",
    "cbind(lasso.vars[order(lasso.vars$max.lambda, decreasing=TRUE),],\n",
    "      # add in the stepwise selection order\n",
    "      stepwise.order=step.result$nextTerm[2:nrow(step.result)])"
   ]
  },
  {
   "cell_type": "markdown",
   "metadata": {},
   "source": [
    "As both lasso regularisation and stepwise selection perform variable selection the order that each method adds/removes variables is compared. The table above lists the order that these methods add/remove variables from the model (with the most important variable first). It shows:\n",
    "- Both lasso regularisation and stepwise variable selection determined that \"alcohol\" and \"volatile.acidity\" were the most important variables.\n",
    "- The four variables lasso does not include in the \"one-standard-error\" model (chlorides, total.sulfur.dioxide, citric.acid and density) are the last four variables that stepwise variable selection added to the model - although they are added/removed in a different order.\n",
    "- Lasso adds \"Density\" last, so lasso regularisation not only stops this variable from dominating the model but determines that it is not needed to predict wine quality."
   ]
  },
  {
   "cell_type": "markdown",
   "metadata": {},
   "source": [
    "#### Visualise the Coefficients\n",
    "\n",
    "*Plot the coefficients over all values of lambda to visualise the changes to the coefficients as lambda increases.*"
   ]
  },
  {
   "cell_type": "code",
   "execution_count": 24,
   "metadata": {
    "collapsed": false
   },
   "outputs": [
    {
     "data": {
      "image/png": "[encoded data removed]",
      "text/plain": [
       "Plot with title \"Lasso Regularisation - Coefficients\""
      ]
     },
     "metadata": {},
     "output_type": "display_data"
    }
   ],
   "source": [
    "par(cex.axis=0.8, mar=c(5, 4, 6, 2))\n",
    "plot(wine.lasso, xvar=\"lambda\", main=\"Lasso Regularisation - Coefficients\", col=rainbow(11))\n",
    "legend(\"bottomright\", legend=names(wine.train)[1:11], col=rainbow(11), lty=1, cex=0.65)"
   ]
  },
  {
   "cell_type": "markdown",
   "metadata": {},
   "source": [
    "As was the case with ridge regularisation, \"density\" is dominating the model at small values of $\\lambda$, but the lasso regularisation pushes it towards zero much faster than ridge regularisation did.\n",
    "\n",
    "As the scale required to plot large density coefficient obscures the detail of how the coefficients behave at they reduce to zero, the following plot provides a close-up view of this part of the plot. The lambda-min and lambda-1se locations are also shown."
   ]
  },
  {
   "cell_type": "code",
   "execution_count": 25,
   "metadata": {
    "collapsed": false
   },
   "outputs": [
    {
     "data": {
      "image/png": "[encoded data removed]",
      "text/plain": [
       "Plot with title \"Lasso Regularisation - Coefficients\""
      ]
     },
     "metadata": {},
     "output_type": "display_data"
    }
   ],
   "source": [
    "par(cex.axis=0.8, mar=c(5, 4, 6, 2))\n",
    "# plot the lasso regularisation limiting the display range of the coefficients\n",
    "plot(wine.lasso, xvar=\"lambda\", ylim=c(-2,2), main=\"Lasso Regularisation - Coefficients\", col=rainbow(11))\n",
    "# plot lambda-1se\n",
    "points(x=log(wine.lasso.cv$lambda.1se), y=0, pch=19, col=\"Darkgrey\")\n",
    "# plot lambda-min\n",
    "points(x=log(wine.lasso.cv$lambda.min), y=0, pch=19, col=\"Black\")\n",
    "# add some legends\n",
    "legend(\"bottomright\", legend=c(\"lambda-min\",\"lambda-1se\"), col=c(\"Black\",\"Darkgrey\"), pch=19, cex=0.75)\n",
    "legend(\"topright\", legend=names(wine.train)[1:11], col=rainbow(11), lty=1, cex=0.65)"
   ]
  },
  {
   "cell_type": "markdown",
   "metadata": {},
   "source": [
    "This plot shows that all the coefficients are pushed towards zero as $\\lambda$ increases. When $\\lambda > 0.003$, coefficients start to reach to zero and variables are removed from the model. For values of $\\lambda > 0.19$ all coefficients are zero and the model uses the intercept only. Lasso regularisation is performing variable selection as well as regularising the coefficients."
   ]
  },
  {
   "cell_type": "markdown",
   "metadata": {},
   "source": [
    "#### Lasso Regularisation - Summary\n",
    "\n",
    "In summary, the best model obtained using lasso regularisation has constrained the coefficients of the predictor variables. As with ridge regularisation, this is particularly noticeable with the coefficients for the intercept and the density variable. The minimum error model (with $\\lambda = 0.0017$) uses all the variables, but the \"one-standard-error\" model (with $\\lambda = 0.0215$) removes four variables including density from the model, which results in a substantial reduction in the intercept value.\n",
    "\n",
    "As for the other methods, both the \"minimum deviance\" and \"one-standard-error\" models will be evaluated using the test data. If the assumption that the \"one-standard-error\" model is not biased holds (so the model is not under-fitting), then this model is preferred as it is has fewer variables and so is both simpler (more explainable) and less likely to over-fit than the \"minimum deviance\" model."
   ]
  },
  {
   "cell_type": "markdown",
   "metadata": {},
   "source": [
    "### Model Comparison\n",
    "\n",
    "#### Compare the Model Coefficients\n",
    "\n",
    "*Compare the coefficients for the best model from the stepwise selection, ridge regularisation and lasso regularisation with the full model without regularisation or variable selection.*"
   ]
  },
  {
   "cell_type": "code",
   "execution_count": 26,
   "metadata": {
    "collapsed": false,
    "scrolled": true
   },
   "outputs": [
    {
     "data": {
      "text/html": [
       "<table>\n",
       "<thead><tr><th></th><th scope=col>full</th><th scope=col>stepwise.min</th><th scope=col>stepwise.1se</th><th scope=col>ridge.min</th><th scope=col>ridge.1se</th><th scope=col>lasso.min</th><th scope=col>lasso.1se</th></tr></thead>\n",
       "<tbody>\n",
       "\t<tr><th scope=row>(Intercept)</th><td> 145.782327</td><td>-8.943936  </td><td>-9.0566    </td><td> 109.338886</td><td> 82.173461 </td><td> 55.578348 </td><td>-6.430111  </td></tr>\n",
       "\t<tr><th scope=row>fixed.acidity</th><td>  -0.072313</td><td>-0.228181  </td><td>     NA    </td><td>  -0.096313</td><td> -0.101678 </td><td> -0.130251 </td><td>-0.074068  </td></tr>\n",
       "\t<tr><th scope=row>volatile.acidity</th><td>  -6.446387</td><td>-6.888461  </td><td>-6.7968    </td><td>  -6.047768</td><td> -4.784868 </td><td> -6.388798 </td><td>-4.771211  </td></tr>\n",
       "\t<tr><th scope=row>citric.acid</th><td>   0.354210</td><td>       NA  </td><td>     NA    </td><td>   0.367927</td><td>  0.407973 </td><td>  0.200885 </td><td>       NA  </td></tr>\n",
       "\t<tr><th scope=row>residual.sugar</th><td>   0.117954</td><td> 0.054850  </td><td> 0.0601    </td><td>   0.095155</td><td>  0.058288 </td><td>  0.078675 </td><td> 0.011298  </td></tr>\n",
       "\t<tr><th scope=row>chlorides</th><td>  -0.512773</td><td>       NA  </td><td>     NA    </td><td>  -1.535322</td><td> -3.976668 </td><td> -0.700767 </td><td>       NA  </td></tr>\n",
       "\t<tr><th scope=row>free.sulfur.dioxide</th><td>   0.011029</td><td> 0.008893  </td><td>     NA    </td><td>   0.011077</td><td>  0.009728 </td><td>  0.010053 </td><td> 0.002771  </td></tr>\n",
       "\t<tr><th scope=row>total.sulfur.dioxide</th><td>  -0.001774</td><td>       NA  </td><td>     NA    </td><td>  -0.002106</td><td> -0.002497 </td><td> -0.001353 </td><td>       NA  </td></tr>\n",
       "\t<tr><th scope=row>density</th><td>-158.759117</td><td>       NA  </td><td>     NA    </td><td>-120.900836</td><td>-90.641993 </td><td>-66.799532 </td><td>       NA  </td></tr>\n",
       "\t<tr><th scope=row>pH</th><td>   1.167910</td><td>       NA  </td><td>     NA    </td><td>   1.009579</td><td>  0.822604 </td><td>  0.765454 </td><td> 0.024287  </td></tr>\n",
       "\t<tr><th scope=row>sulphates</th><td>   1.960045</td><td> 1.749092  </td><td>     NA    </td><td>   1.810688</td><td>  1.440145 </td><td>  1.678099 </td><td> 0.378289  </td></tr>\n",
       "\t<tr><th scope=row>alcohol</th><td>   0.907662</td><td> 1.122666  </td><td> 1.0884    </td><td>   0.874642</td><td>  0.677019 </td><td>  0.990411 </td><td> 0.821252  </td></tr>\n",
       "</tbody>\n",
       "</table>\n"
      ],
      "text/latex": [
       "\\begin{tabular}{r|lllllll}\n",
       "  & full & stepwise.min & stepwise.1se & ridge.min & ridge.1se & lasso.min & lasso.1se\\\\\n",
       "\\hline\n",
       "\t(Intercept) &  145.782327 & -8.943936   & -9.0566     &  109.338886 &  82.173461  &  55.578348  & -6.430111  \\\\\n",
       "\tfixed.acidity &   -0.072313 & -0.228181   &      NA     &   -0.096313 &  -0.101678  &  -0.130251  & -0.074068  \\\\\n",
       "\tvolatile.acidity &   -6.446387 & -6.888461   & -6.7968     &   -6.047768 &  -4.784868  &  -6.388798  & -4.771211  \\\\\n",
       "\tcitric.acid &    0.354210 &        NA   &      NA     &    0.367927 &   0.407973  &   0.200885  &        NA  \\\\\n",
       "\tresidual.sugar &    0.117954 &  0.054850   &  0.0601     &    0.095155 &   0.058288  &   0.078675  &  0.011298  \\\\\n",
       "\tchlorides &   -0.512773 &        NA   &      NA     &   -1.535322 &  -3.976668  &  -0.700767  &        NA  \\\\\n",
       "\tfree.sulfur.dioxide &    0.011029 &  0.008893   &      NA     &    0.011077 &   0.009728  &   0.010053  &  0.002771  \\\\\n",
       "\ttotal.sulfur.dioxide &   -0.001774 &        NA   &      NA     &   -0.002106 &  -0.002497  &  -0.001353  &        NA  \\\\\n",
       "\tdensity & -158.759117 &        NA   &      NA     & -120.900836 & -90.641993  & -66.799532  &        NA  \\\\\n",
       "\tpH &    1.167910 &        NA   &      NA     &    1.009579 &   0.822604  &   0.765454  &  0.024287  \\\\\n",
       "\tsulphates &    1.960045 &  1.749092   &      NA     &    1.810688 &   1.440145  &   1.678099  &  0.378289  \\\\\n",
       "\talcohol &    0.907662 &  1.122666   &  1.0884     &    0.874642 &   0.677019  &   0.990411  &  0.821252  \\\\\n",
       "\\end{tabular}\n"
      ],
      "text/plain": [
       "                     full        stepwise.min stepwise.1se ridge.min  \n",
       "(Intercept)           145.782327 -8.943936    -9.0566       109.338886\n",
       "fixed.acidity          -0.072313 -0.228181         NA        -0.096313\n",
       "volatile.acidity       -6.446387 -6.888461    -6.7968        -6.047768\n",
       "citric.acid             0.354210        NA         NA         0.367927\n",
       "residual.sugar          0.117954  0.054850     0.0601         0.095155\n",
       "chlorides              -0.512773        NA         NA        -1.535322\n",
       "free.sulfur.dioxide     0.011029  0.008893         NA         0.011077\n",
       "total.sulfur.dioxide   -0.001774        NA         NA        -0.002106\n",
       "density              -158.759117        NA         NA      -120.900836\n",
       "pH                      1.167910        NA         NA         1.009579\n",
       "sulphates               1.960045  1.749092         NA         1.810688\n",
       "alcohol                 0.907662  1.122666     1.0884         0.874642\n",
       "                     ridge.1se  lasso.min  lasso.1se\n",
       "(Intercept)           82.173461  55.578348 -6.430111\n",
       "fixed.acidity         -0.101678  -0.130251 -0.074068\n",
       "volatile.acidity      -4.784868  -6.388798 -4.771211\n",
       "citric.acid            0.407973   0.200885        NA\n",
       "residual.sugar         0.058288   0.078675  0.011298\n",
       "chlorides             -3.976668  -0.700767        NA\n",
       "free.sulfur.dioxide    0.009728   0.010053  0.002771\n",
       "total.sulfur.dioxide  -0.002497  -0.001353        NA\n",
       "density              -90.641993 -66.799532        NA\n",
       "pH                     0.822604   0.765454  0.024287\n",
       "sulphates              1.440145   1.678099  0.378289\n",
       "alcohol                0.677019   0.990411  0.821252"
      ]
     },
     "metadata": {},
     "output_type": "display_data"
    }
   ],
   "source": [
    "# Generate the full model without regularisation for comparison\n",
    "full.model <- glm(quality ~ ., data=wine.train, family=\"binomial\")\n",
    "\n",
    "# Format the stepwise coefficients into a dataframe that includes all variables\n",
    "step.coef.min <- merge(data.frame(rownums=seq(1:(ncol(wine.train)-1)), nextTerm=names(wine.train[1:(ncol(wine.train)-1)])),\n",
    "                       data.frame(coef=coef(wine.step.min)),\n",
    "                       by.x=\"nextTerm\",by.y=\"row.names\",all.x=TRUE,all.y=TRUE)\n",
    "row.names(step.coef.min) <- step.coef.min$nextTerm\n",
    "step.coef.min <- step.coef.min[order(step.coef.min$rownums,na.last=FALSE),]\n",
    "\n",
    "step.coef.1se <- merge(data.frame(rownums=seq(1:(ncol(wine.train)-1)), nextTerm=names(wine.train[1:(ncol(wine.train)-1)])),\n",
    "                       data.frame(coef=coef(wine.step.1se)),\n",
    "                       by.x=\"nextTerm\",by.y=\"row.names\",all.x=TRUE,all.y=TRUE)\n",
    "row.names(step.coef.1se) <- step.coef.1se$nextTerm\n",
    "step.coef.1se <- step.coef.1se[order(step.coef.1se$rownums,na.last=FALSE),]\n",
    "\n",
    "# Format the lasso coefficients by setting zeros to NA\n",
    "lasso.coef.min <- as.vector(coef(wine.lasso, s=wine.lasso.cv$lambda.min))\n",
    "is.na(lasso.coef.min) <- lasso.coef.min==0\n",
    "lasso.coef.1se <- as.vector(coef(wine.lasso, s=wine.lasso.cv$lambda.1se))\n",
    "is.na(lasso.coef.1se) <- lasso.coef.1se==0\n",
    "\n",
    "# Display coefficients for the full model ...\n",
    "data.frame(full=coef(full.model),\n",
    "           # ... the stepwise models\n",
    "           stepwise.min=step.coef.min$coef,\n",
    "           stepwise.1se=step.coef.1se$coef,\n",
    "           # ... the ridge regularisation models\n",
    "           ridge.min=as.vector(coef(wine.ridge, s=wine.ridge.cv$lambda.min)),\n",
    "           ridge.1se=as.vector(coef(wine.ridge, s=wine.ridge.cv$lambda.1se)),\n",
    "           # ... and the lasso regularisation models\n",
    "           lasso.min=lasso.coef.min,\n",
    "           lasso.1se=lasso.coef.1se)"
   ]
  },
  {
   "cell_type": "markdown",
   "metadata": {},
   "source": [
    "The above table shows the coefficients of all the models considered plus the full, unconstrained model. The effects of variable selection and regularisation are most clearly seen by considering the intercept and density terms:\n",
    "- Without variable selection or regularisation, the intercept and the density coefficients go to large positive and negative values respectively. As shown in the previous boxplot of density, most values of density lie within a narrow range, so the net effect is that these two terms largely cancel each other out.\n",
    "- Neither the stepwise models or the \"one-standard-error\" lasso models include density in the model. This helps keep the intercept close to zero.\n",
    "- Lasso regularisation is able to constrain the intercept and density coefficient for values of $\\lambda$ near the value where density is dropped.\n",
    "- Ridge regularisation is able to constrain the intercept and density coefficient significantly compared to the full model, but does not eliminate it completely."
   ]
  },
  {
   "cell_type": "markdown",
   "metadata": {},
   "source": [
    "#### Compare the Model Deviances\n",
    "\n",
    "*Use the deviance returned from the cross-validation run for variable selection/lambda tuning to compare how well the best models for each method perfrom.*"
   ]
  },
  {
   "cell_type": "code",
   "execution_count": 27,
   "metadata": {
    "collapsed": false
   },
   "outputs": [
    {
     "name": "stdout",
     "output_type": "stream",
     "text": [
      "Step-wise selection - minimum deviance model (6 variables):      0.9900\n",
      "Step-wise selection - one-standard-error model (3 variables):    1.0047\n",
      "Ridge regularisation - minimum deviance model (lambda=0.0050):   0.9938\n",
      "Ridge regularisation - one-standard-error model (lambda=0.0305): 1.0036\n",
      "Lasso regularisation - minimum deviance model (lambda=0.0017):   0.9929\n",
      "Lasso regularisation - one-standard-error model (lambda=0.0215): 1.0155\n"
     ]
    }
   ],
   "source": [
    "# Print the mean deviance for each of the selected models\n",
    "cat(sprintf(\"Step-wise selection - minimum deviance model (%d variables):      %1.4f\\n\",\n",
    "            step.devmin-1, step.result$Deviance.mean[step.devmin]))\n",
    "cat(sprintf(\"Step-wise selection - one-standard-error model (%d variables):    %1.4f\\n\",\n",
    "            step.dev1se-1, step.result$Deviance.mean[step.dev1se]))\n",
    "cat(sprintf(\"Ridge regularisation - minimum deviance model (lambda=%1.4f):   %1.4f\\n\",\n",
    "            wine.ridge.cv$lambda.min, wine.ridge.cv$cvm[which(wine.ridge.cv$lambda==wine.ridge.cv$lambda.min)]))\n",
    "cat(sprintf(\"Ridge regularisation - one-standard-error model (lambda=%1.4f): %1.4f\\n\",\n",
    "            wine.ridge.cv$lambda.1se, wine.ridge.cv$cvm[which(wine.ridge.cv$lambda==wine.ridge.cv$lambda.1se)]))\n",
    "cat(sprintf(\"Lasso regularisation - minimum deviance model (lambda=%1.4f):   %1.4f\\n\",\n",
    "            wine.lasso.cv$lambda.min, wine.lasso.cv$cvm[which(wine.lasso.cv$lambda==wine.lasso.cv$lambda.min)]))\n",
    "cat(sprintf(\"Lasso regularisation - one-standard-error model (lambda=%1.4f): %1.4f\\n\",\n",
    "            wine.lasso.cv$lambda.1se, wine.lasso.cv$cvm[which(wine.lasso.cv$lambda==wine.lasso.cv$lambda.1se)]))"
   ]
  },
  {
   "cell_type": "markdown",
   "metadata": {},
   "source": [
    "Comparing the deviance of the best models of each type based on the cross-validation results shows the difference between the three \"minimum deviance\" models is less than 0.4 percent. There is a slightly larger variation in the deviances on the \"one-standard-error\" models. The stepwise selection and ridge regularisation model deviances are very similar; but the deviance on the lasso regularisation model is about one percent higher.\n",
    "\n",
    "These results mean that based on the results of the cross-validation used to build the models, no one model stands out at being the best model."
   ]
  },
  {
   "cell_type": "markdown",
   "metadata": {},
   "source": [
    "### Model Testing\n",
    "\n",
    "To find the overall best model, the models built using stepwise selection, ridge regularisation and lasso regularisation are evaluated using the test dataset. Each model is used to determine the probability that each wine in the test set is \"good\" quality and the results evaluated using the accuracy, AUC and deviance measures.\n",
    "\n",
    "These results are then analysed to review how each model behaved and to determine which model produces the best result."
   ]
  },
  {
   "cell_type": "markdown",
   "metadata": {},
   "source": [
    "*Test the best models found by stepwise selection, ridge regularisation and lasso regularisation to determine the best overall model based on the test data. Uses the testModel function to calculate the accuracy, AUC and deviance of each model based on the test data.*"
   ]
  },
  {
   "cell_type": "code",
   "execution_count": 28,
   "metadata": {
    "collapsed": false
   },
   "outputs": [
    {
     "name": "stdout",
     "output_type": "stream",
     "text": [
      "\n",
      "Stepwise selection - minimum deviance (6 variables):       accuracy = 0.6991 (CI = 0.6612 - 0.7382)\n",
      "                                                           AUC = 0.7568 (CI = 0.7167 - 0.7893)\n",
      "                                                           deviance = 1.1369 (CI = 1.0343 - 1.2356)\n",
      "\n",
      "Stepwise selection - one-standard-error (3 variables):     accuracy = 0.7065 (CI = 0.6779 - 0.7372)\n",
      "                                                           AUC = 0.7476 (CI = 0.7113 - 0.7802)\n",
      "                                                           deviance = 1.1504 (CI = 1.0498 - 1.2570)\n",
      "\n",
      "Ridge regularisation - minimum deviance (lambda=0.0050):   accuracy = 0.7021 (CI = 0.6668 - 0.7374)\n",
      "                                                           AUC = 0.7642 (CI = 0.7276 - 0.8025)\n",
      "                                                           deviance = 1.1188 (CI = 1.0373 - 1.2094)\n",
      "\n",
      "Ridge regularisation - one-standard-error (lambda=0.0305): accuracy = 0.7109 (CI = 0.6791 - 0.7426)\n",
      "                                                           AUC = 0.7629 (CI = 0.7188 - 0.8007)\n",
      "                                                           deviance = 1.1114 (CI = 1.0319 - 1.1714)\n",
      "\n",
      "Lasso regularisation - minimum deviance (lambda=0.0017):   accuracy = 0.7006 (CI = 0.6639 - 0.7375)\n",
      "                                                           AUC = 0.7563 (CI = 0.7186 - 0.7927)\n",
      "                                                           deviance = 1.1263 (CI = 1.0250 - 1.2184)\n",
      "\n",
      "Lasso regularisation - one-standard-error (lambda=0.0215): accuracy = 0.7065 (CI = 0.6737 - 0.7370)\n",
      "                                                           AUC = 0.7485 (CI = 0.7111 - 0.7916)\n",
      "                                                           deviance = 1.1258 (CI = 1.0565 - 1.1913)\n"
     ]
    }
   ],
   "source": [
    "# Read the testing data\n",
    "wine.test <- read.csv(\"Wine_testing.csv\")\n",
    "\n",
    "# Format into X and Y for glmnet\n",
    "test.X <- as.matrix(wine.test[,-12])\n",
    "test.y <- wine.test$quality\n",
    "\n",
    "# Test the stepwise model with minimum deviance\n",
    "step.test <- testModel(wine.step.min, wine.test[,-12], test.y, CI=TRUE)\n",
    "cat(sprintf(\"\\nStepwise selection - minimum deviance (%d variables):       accuracy = %1.4f (CI = %1.4f - %1.4f)\\n\",\n",
    "            step.devmin-1, step.test$accuracy$mean, step.test$accuracy$lower, step.test$accuracy$upper))\n",
    "cat(sprintf(\"                                                           AUC = %1.4f (CI = %1.4f - %1.4f)\\n\",\n",
    "            step.test$AUC$mean, step.test$AUC$lower, step.test$AUC$upper))\n",
    "cat(sprintf(\"                                                           deviance = %1.4f (CI = %1.4f - %1.4f)\\n\",\n",
    "            step.test$deviance$mean, step.test$deviance$lower, step.test$deviance$upper))\n",
    "\n",
    "# Test the one-standard-error stepwise model\n",
    "step.test <- testModel(wine.step.1se, wine.test[,-12], test.y, CI=TRUE)\n",
    "cat(sprintf(\"\\nStepwise selection - one-standard-error (%d variables):     accuracy = %1.4f (CI = %1.4f - %1.4f)\\n\",\n",
    "            step.dev1se-1, step.test$accuracy$mean, step.test$accuracy$lower, step.test$accuracy$upper))\n",
    "cat(sprintf(\"                                                           AUC = %1.4f (CI = %1.4f - %1.4f)\\n\",\n",
    "            step.test$AUC$mean, step.test$AUC$lower, step.test$AUC$upper))\n",
    "cat(sprintf(\"                                                           deviance = %1.4f (CI = %1.4f - %1.4f)\\n\",\n",
    "            step.test$deviance$mean, step.test$deviance$lower, step.test$deviance$upper))\n",
    "\n",
    "# Test the minumum ridge regularisation model\n",
    "bestLambda <- wine.ridge.cv$lambda.min\n",
    "ridge.test <- testModel(wine.ridge, test.X, test.y, s=bestLambda, CI=TRUE)\n",
    "cat(sprintf(\"\\nRidge regularisation - minimum deviance (lambda=%1.4f):   accuracy = %1.4f (CI = %1.4f - %1.4f)\\n\",\n",
    "            bestLambda, ridge.test$accuracy$mean, ridge.test$accuracy$lower, ridge.test$accuracy$upper))\n",
    "cat(sprintf(\"                                                           AUC = %1.4f (CI = %1.4f - %1.4f)\\n\",\n",
    "            ridge.test$AUC$mean, ridge.test$AUC$lower, ridge.test$AUC$upper))\n",
    "cat(sprintf(\"                                                           deviance = %1.4f (CI = %1.4f - %1.4f)\\n\",\n",
    "            ridge.test$deviance$mean, ridge.test$deviance$lower, ridge.test$deviance$upper))\n",
    "\n",
    "# Test the one-standard-error ridge regularisation model\n",
    "bestLambda <- wine.ridge.cv$lambda.1se\n",
    "ridge.test <- testModel(wine.ridge, test.X, test.y, s=bestLambda, CI=TRUE)\n",
    "cat(sprintf(\"\\nRidge regularisation - one-standard-error (lambda=%1.4f): accuracy = %1.4f (CI = %1.4f - %1.4f)\\n\",\n",
    "            bestLambda, ridge.test$accuracy$mean, ridge.test$accuracy$lower, ridge.test$accuracy$upper))\n",
    "cat(sprintf(\"                                                           AUC = %1.4f (CI = %1.4f - %1.4f)\\n\",\n",
    "            ridge.test$AUC$mean, ridge.test$AUC$lower, ridge.test$AUC$upper))\n",
    "cat(sprintf(\"                                                           deviance = %1.4f (CI = %1.4f - %1.4f)\\n\",\n",
    "            ridge.test$deviance$mean, ridge.test$deviance$lower, ridge.test$deviance$upper))\n",
    "\n",
    "# Test the minumum lasso regularisation model\n",
    "bestLambda <- wine.lasso.cv$lambda.min\n",
    "lasso.test <- testModel(wine.lasso, test.X, test.y, s=bestLambda, CI=TRUE)\n",
    "cat(sprintf(\"\\nLasso regularisation - minimum deviance (lambda=%1.4f):   accuracy = %1.4f (CI = %1.4f - %1.4f)\\n\",\n",
    "            bestLambda, lasso.test$accuracy$mean, lasso.test$accuracy$lower, lasso.test$accuracy$upper))\n",
    "cat(sprintf(\"                                                           AUC = %1.4f (CI = %1.4f - %1.4f)\\n\",\n",
    "            lasso.test$AUC$mean, lasso.test$AUC$lower, lasso.test$AUC$upper))\n",
    "cat(sprintf(\"                                                           deviance = %1.4f (CI = %1.4f - %1.4f)\\n\",\n",
    "            lasso.test$deviance$mean, lasso.test$deviance$lower, lasso.test$deviance$upper))\n",
    "\n",
    "# Test the one-standard-error lasso regularisation model\n",
    "bestLambda <- wine.lasso.cv$lambda.1se\n",
    "lasso.test <- testModel(wine.lasso, test.X, test.y, s=bestLambda, CI=TRUE)\n",
    "cat(sprintf(\"\\nLasso regularisation - one-standard-error (lambda=%1.4f): accuracy = %1.4f (CI = %1.4f - %1.4f)\\n\",\n",
    "            bestLambda, lasso.test$accuracy$mean, lasso.test$accuracy$lower, lasso.test$accuracy$upper))\n",
    "cat(sprintf(\"                                                           AUC = %1.4f (CI = %1.4f - %1.4f)\\n\",\n",
    "            lasso.test$AUC$mean, lasso.test$AUC$lower, lasso.test$AUC$upper))\n",
    "cat(sprintf(\"                                                           deviance = %1.4f (CI = %1.4f - %1.4f)\\n\",\n",
    "            lasso.test$deviance$mean, lasso.test$deviance$lower, lasso.test$deviance$upper))\n"
   ]
  },
  {
   "cell_type": "markdown",
   "metadata": {},
   "source": [
    "Consideration of the performance measures of each model shows that all the models give very similar results. The AUC, for instance, ranges from 74.8% for \"one-standard-error\" stepwise selection to 76.4% for \"minimum deviance\" ridge regularisation. This is a difference of less than 2% between the best and worst performing models.  \n",
    "\n",
    "For all three methods, the \"one-standard-error\" model has a higher accuracy than the \"minimum deviance\" model, but the AUC is slightly lower. The deviance measure favours the \"minimum deviance\" model over the \"one-standard-error\" model for stepwise selection, but for both regularisation methods the \"one-standard-error\" model has the lower deviance.  \n",
    "\n",
    "When all three of the model evaluation measures are considered, the \"one-standard-error\" ridge regularisation model gave the best results, with the highest accuracy and lowest deviance on the testing data. Considering the AUC only, ridge regression still gives the best model, but the \"minimum deviance\" model gives a slightly better result than the \"one-standard-error\" model.\n",
    "\n",
    "The close results between the \"minimum deviance\" and \"one-standard-error\" models shows that the \"one-standard-error\" models are not under-fitting and so the assumption that these models are not biased holds. The \"one-standard-error\" models are therefore preferred over the \"minimum deviance\" models.\n",
    "\n",
    "The 95% confidence intervals for each model and performance measure show that the differences in the results are not significant. Each confidence interval spans the range of mean values for the measure. This means that if the tests were run using another set of test data, the results are likely to show another model gives the best results. Therefore the conclusion is that there is no significant difference between the models and each of the three methods generates models with similar powers of prediction."
   ]
  },
  {
   "cell_type": "markdown",
   "metadata": {},
   "source": [
    "### Summary\n",
    "\n",
    "This assignment has used three different methods to build a logistic regression model to predict the wine quality of \"good\" or \"bad\" from the chemical test results provided in the wine quality dataset. For each method the best models were determined by selecting the model with the minimum deviance (the \"minimum deviance\" model) and the model with the fewest variables and/or highest degree of regularisation with a deviance within one standard error of the minimum deviance model (the \"one-standard-error\" model).\n",
    "\n",
    "The forward stepwise selection method starts with a null model and adds the variables one by one in order of the contribution each variable makes towards explaining the data. This results in $p$ models (where $p$ is the number of predictor variables) using from $1$ to $p$ predictor variables. The best model is selected by evaluating each of the $p$ models using k-fold cross-validation to find the model with the lowest deviance. Using forward stepwise selection, the \"minimum deviance\" model uses $six$ predictor variables (alchohol, volatile.acidity, residual.sugar, fixed.acidity, sulphates and free.sulfur.dioxide) and the \"one-standard-error\" model uses $three$ predictor variables (alchohol, volatile.acidity and residual.sugar).\n",
    "\n",
    "The ridge regularisation method uses the $l_2$ norm to apply a penalty to constrain the coefficients of the model. The tuning parameter, $\\lambda$, determines the size of the penalty and k-fold cross-validation is used to optimize the value of $\\lambda$. The ridge regularisation models include all the predictor variables, with the coefficients for the variables contributing least to the outcome tending to (but not reaching) zero as $\\lambda$ increases. Using ridge regularisation, the \"minimum deviance\" model has $\\lambda = 0.005$ and the \"one-standard-error\" model has $\\lambda = 0.0305$.\n",
    "\n",
    "The lasso regularisation method also uses a penalty to constrain the coefficients of the model. It differs from ridge regularisation as it uses the $l_2$ norm, which allows the coefficients of non-contributing predictor variables to reach zero, so predictor variables are removed from the model one by one as the tuning parameter $\\lambda$ - and the size of the penalty - increases. Lasso regularisation therefore both constrains the coefficients and performs variable selection. Again, $\\lambda$ is optimized using k-fold cross validation. Using lasso regularisation, the \"minimum deviance\" model has $\\lambda = 0.0017$ and uses all the predictor variables. The \"one-standard-error\" model has $\\lambda = 0.0215$ and uses seven predictor variables.\n",
    "\n",
    "Evaluating the models from each method showed that they all produced similar results, but that ridge regression performed slightly better than forward stepwise selection and lasso regression. The \"one-standard-error\" model performed very slightly better than the \"minimum deviance\" model, therefore the best results were obtained using ridge regularisation with $\\lambda = 0.0305$. \n",
    "\n",
    "The differences between the models are not significant at the 95% confidence level, based on the confidence intervals of all the performance measures. Therefore if the models are evaluated using another test set, a different model may give the best results. This analysis therefore shows that there is no significant difference between the models generated using these three methods."
   ]
  },
  {
   "cell_type": "markdown",
   "metadata": {},
   "source": [
    "### References\n",
    "\n",
    "<p style=\"margin-left:.5in;text-indent:-.5in\">Auguie, B. (2016). gridExtra: Miscellaneous Functions for \"Grid\" Graphics (Version 2.2.1) [R package]. Retrieved from https://CRAN.R-project.org/package=gridExtra</p>\n",
    "\n",
    "<p style=\"margin-left:.5in;text-indent:-.5in\">Bates, D., & Maechler, M. (2016). Matrix: Sparse and Dense Matrix Classes and Methods (Version 1.2-6) [R package]. Retrieved from https://CRAN.R-project.org/package=Matrix</p>\n",
    "\n",
    "<p style=\"margin-left:.5in;text-indent:-.5in\">Breheny, P. (2011). Ridge Regression, slides 10-12. Retrieved from http://web.as.uky.edu/statistics/users/pbreheny/764-F11/notes/9-1.pdf</p>\n",
    "\n",
    "<p style=\"margin-left:.5in;text-indent:-.5in\">Canty, A., & Ripley, B. (2016). boot: Bootstrap R (S-Plus) Functions (Version 1.3-18) [R package]. Retrieved from https://cran.r-project.org/web/packages/boot</p> \n",
    "\n",
    "<p style=\"margin-left:.5in;text-indent:-.5in\">Cross Validated (Pat). (2015). What deviance is glmnet using to compare values of λ?   Retrieved from http://stats.stackexchange.com/questions/134694/what-deviance-is-glmnet-using-to-compare-values-of-lambda</p>\n",
    "\n",
    "<p style=\"margin-left:.5in;text-indent:-.5in\">Dernoncourt, F. (2015). What does AUC stand for and what is it?   Retrieved from http://stats.stackexchange.com/questions/132777/what-does-auc-stand-for-and-what-is-it</p>\n",
    "\n",
    "<p style=\"margin-left:.5in;text-indent:-.5in\">Friedman, J., Hastie, T., & Tibshirani, R. (2010). Regularization Paths for Generalized Linear Models via Coordinate Descent. *Journal of Statistical Software, 33*(1), 1-22. </p>\n",
    "\n",
    "<p style=\"margin-left:.5in;text-indent:-.5in\">Kabacoff, R. I. (2014). Bootstrapping.   Retrieved from http://www.statmethods.net/advstats/bootstrapping.htm</p>\n",
    "\n",
    "<p style=\"margin-left:.5in;text-indent:-.5in\">R Core Team. (2016). R: A Language and Environment for Statistical Computing (Version 3.3.0 (2016-05-03)) [Software]. Vienna, Austria: R Foundation for Statistical Computing. Retrieved from https://www.R-project.org/</p>\n",
    "\n",
    "<p style=\"margin-left:.5in;text-indent:-.5in\">Revolution Analytics, & Weston, S. (2015). foreach: Provides Foreach Looping Construct for R (Version 1.4.3) [R package]. Retrieved from https://CRAN.R-project.org/package=foreach</p>\n",
    "\n",
    "<p style=\"margin-left:.5in;text-indent:-.5in\">Robin, X., Turck, N., Hainard, A., Tiberti, N., Lisacek, F., Sanchez, J.-C., & Müller, M. (2011). pROC: an open-source package for R and S+ to analyze and compare ROC curves. *BMC Bioinformatics, 12*, 77. doi:10.1186/1471-2105-12-77</p>\n",
    "\n",
    "<p style=\"margin-left:.5in;text-indent:-.5in\">Wickam, H. (2009). *ggplot2: Elegant Graphics for Data Analysis*: Springer-Verlag New York.</p>\n",
    "\n",
    "<p style=\"margin-left:.5in;text-indent:-.5in\">Wikipedia. (2016). Deviance (Statistics).   Retrieved from https://en.wikipedia.org/wiki/Deviance_%28statistics%29</p>"
   ]
  },
  {
   "cell_type": "code",
   "execution_count": null,
   "metadata": {
    "collapsed": true
   },
   "outputs": [],
   "source": []
  }
 ],
 "metadata": {
  "anaconda-cloud": {},
  "kernelspec": {
   "display_name": "R",
   "language": "R",
   "name": "ir"
  },
  "language_info": {
   "codemirror_mode": "r",
   "file_extension": ".r",
   "mimetype": "text/x-r-source",
   "name": "R",
   "pygments_lexer": "r",
   "version": "3.3.2"
  }
 },
 "nbformat": 4,
 "nbformat_minor": 0
}
